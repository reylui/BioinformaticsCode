{
 "cells": [
  {
   "cell_type": "markdown",
   "metadata": {},
   "source": [
    "#### Microbiome Analysis\n",
    "\n",
    "In this jupyter notebook we will do some basic graphing of a feature table of microbes by samples. As a first step let's check that we have 'scenario1_otus.txt' in our current working directory..."
   ]
  },
  {
   "cell_type": "code",
   "execution_count": 3,
   "metadata": {},
   "outputs": [
    {
     "name": "stdout",
     "output_type": "stream",
     "text": [
      "Directory contents: ['.git', '.idea', '.ipynb_checkpoints', '.vs', 'Microbiome Analysis - basics.ipynb', 'Microbiome_Analysis_in_class_r2.ipynb', 'PythonProblems1.ipynb', 'README.md', 'scenario1_otus.txt', 'scenario1_otus_pandas.txt', 'show_F.py', '__pycache__']\n"
     ]
    }
   ],
   "source": [
    "from os import listdir\n",
    "print(\"Directory contents:\",listdir())"
   ]
  },
  {
   "cell_type": "markdown",
   "metadata": {},
   "source": [
    "Let's load the data into python using pandas!"
   ]
  },
  {
   "cell_type": "code",
   "execution_count": 47,
   "metadata": {},
   "outputs": [
    {
     "data": {
      "text/html": [
       "<table border=\"1\" class=\"dataframe\">\n",
       "  <thead>\n",
       "    <tr style=\"text-align: right;\">\n",
       "      <th></th>\n",
       "      <th>patient1</th>\n",
       "      <th>patient2</th>\n",
       "      <th>patient3</th>\n",
       "      <th>patient4</th>\n",
       "      <th>patient5</th>\n",
       "      <th>patient6</th>\n",
       "      <th>patient7</th>\n",
       "      <th>patient8</th>\n",
       "      <th>patient9</th>\n",
       "      <th>patient10</th>\n",
       "      <th>patient11</th>\n",
       "      <th>patient12</th>\n",
       "    </tr>\n",
       "    <tr>\n",
       "      <th>OTU_ID</th>\n",
       "      <th></th>\n",
       "      <th></th>\n",
       "      <th></th>\n",
       "      <th></th>\n",
       "      <th></th>\n",
       "      <th></th>\n",
       "      <th></th>\n",
       "      <th></th>\n",
       "      <th></th>\n",
       "      <th></th>\n",
       "      <th></th>\n",
       "      <th></th>\n",
       "    </tr>\n",
       "  </thead>\n",
       "  <tbody>\n",
       "    <tr>\n",
       "      <th>OTU1</th>\n",
       "      <td>3</td>\n",
       "      <td>4</td>\n",
       "      <td>2</td>\n",
       "      <td>2</td>\n",
       "      <td>0</td>\n",
       "      <td>4</td>\n",
       "      <td>4</td>\n",
       "      <td>4</td>\n",
       "      <td>0</td>\n",
       "      <td>3</td>\n",
       "      <td>2</td>\n",
       "      <td>2</td>\n",
       "    </tr>\n",
       "    <tr>\n",
       "      <th>OTU2</th>\n",
       "      <td>4</td>\n",
       "      <td>1</td>\n",
       "      <td>3</td>\n",
       "      <td>4</td>\n",
       "      <td>1</td>\n",
       "      <td>3</td>\n",
       "      <td>3</td>\n",
       "      <td>3</td>\n",
       "      <td>4</td>\n",
       "      <td>1</td>\n",
       "      <td>1</td>\n",
       "      <td>4</td>\n",
       "    </tr>\n",
       "    <tr>\n",
       "      <th>OTU3</th>\n",
       "      <td>1</td>\n",
       "      <td>4</td>\n",
       "      <td>2</td>\n",
       "      <td>1</td>\n",
       "      <td>4</td>\n",
       "      <td>2</td>\n",
       "      <td>2</td>\n",
       "      <td>2</td>\n",
       "      <td>1</td>\n",
       "      <td>4</td>\n",
       "      <td>4</td>\n",
       "      <td>1</td>\n",
       "    </tr>\n",
       "    <tr>\n",
       "      <th>OTU4</th>\n",
       "      <td>2</td>\n",
       "      <td>3</td>\n",
       "      <td>0</td>\n",
       "      <td>1</td>\n",
       "      <td>2</td>\n",
       "      <td>0</td>\n",
       "      <td>1</td>\n",
       "      <td>2</td>\n",
       "      <td>3</td>\n",
       "      <td>0</td>\n",
       "      <td>2</td>\n",
       "      <td>1</td>\n",
       "    </tr>\n",
       "    <tr>\n",
       "      <th>OTU5</th>\n",
       "      <td>0</td>\n",
       "      <td>0</td>\n",
       "      <td>0</td>\n",
       "      <td>0</td>\n",
       "      <td>0</td>\n",
       "      <td>0</td>\n",
       "      <td>1</td>\n",
       "      <td>4</td>\n",
       "      <td>2</td>\n",
       "      <td>2</td>\n",
       "      <td>3</td>\n",
       "      <td>4</td>\n",
       "    </tr>\n",
       "  </tbody>\n",
       "</table>"
      ],
      "text/plain": [
       "<IPython.core.display.HTML object>"
      ]
     },
     "execution_count": 47,
     "metadata": {},
     "output_type": "execute_result"
    }
   ],
   "source": [
    "from pandas import read_csv\n",
    "from IPython.display import HTML\n",
    "\n",
    "#Loading the text csv file as pandas\n",
    "feature_table = read_csv(\"scenario1_otus_pandas.txt\",sep=\"\\t\")\n",
    "\n",
    "#Use OTU ID column to label each row\n",
    "feature_table = feature_table.set_index('OTU_ID')\n",
    "\n",
    "#Converting it to HTML to show it\n",
    "feature_table_to_show = feature_table.to_html()\n",
    "\n",
    "#Show the HTML\n",
    "HTML(feature_table_to_show)\n",
    "\n"
   ]
  },
  {
   "cell_type": "markdown",
   "metadata": {},
   "source": [
    "### Graphing the data\n",
    "\n",
    "The clustermap function in seaborn is a convenient way to make a heatmap of our data, clustered according to the similarity of rows and columns."
   ]
  },
  {
   "cell_type": "code",
   "execution_count": 48,
   "metadata": {},
   "outputs": [
    {
     "name": "stderr",
     "output_type": "stream",
     "text": [
      "C:\\Users\\LuisJ\\AppData\\Local\\Programs\\Python\\Python37-32\\lib\\site-packages\\matplotlib\\pyplot.py:514: RuntimeWarning: More than 20 figures have been opened. Figures created through the pyplot interface (`matplotlib.pyplot.figure`) are retained until explicitly closed and may consume too much memory. (To control this warning, see the rcParam `figure.max_open_warning`).\n",
      "  max_open_warning, RuntimeWarning)\n"
     ]
    },
    {
     "data": {
      "text/plain": [
       "<seaborn.matrix.ClusterGrid at 0x291cc910>"
      ]
     },
     "execution_count": 48,
     "metadata": {},
     "output_type": "execute_result"
    }
   ],
   "source": [
    "from seaborn import clustermap\n",
    "clustermap(feature_table)"
   ]
  },
  {
   "cell_type": "markdown",
   "metadata": {},
   "source": [
    "If we don't want to cluster the data, and just want a basic heatmap, we can set the row_cluster and col_cluster parameters to False."
   ]
  },
  {
   "cell_type": "code",
   "execution_count": 49,
   "metadata": {},
   "outputs": [
    {
     "name": "stderr",
     "output_type": "stream",
     "text": [
      "C:\\Users\\LuisJ\\AppData\\Local\\Programs\\Python\\Python37-32\\lib\\site-packages\\matplotlib\\pyplot.py:514: RuntimeWarning: More than 20 figures have been opened. Figures created through the pyplot interface (`matplotlib.pyplot.figure`) are retained until explicitly closed and may consume too much memory. (To control this warning, see the rcParam `figure.max_open_warning`).\n",
      "  max_open_warning, RuntimeWarning)\n"
     ]
    },
    {
     "data": {
      "text/plain": [
       "<seaborn.matrix.ClusterGrid at 0x29fcebf0>"
      ]
     },
     "execution_count": 49,
     "metadata": {},
     "output_type": "execute_result"
    }
   ],
   "source": [
    "clustermap(feature_table,row_cluster=False,col_cluster=False)"
   ]
  },
  {
   "cell_type": "markdown",
   "metadata": {},
   "source": [
    "If we wanted to swap the rows and columns, we could use the pandas DataFrame method .transpose() to swap the rows and columns of the DataFrame, and then rerun the clustermap on the transposed data. We can also separately control clustering of rows and columns with the row_cluster and col_cluster parameters. Finally, we can change the color mapping or 'cmap' using the cmap paramter. "
   ]
  },
  {
   "cell_type": "code",
   "execution_count": 50,
   "metadata": {},
   "outputs": [
    {
     "name": "stderr",
     "output_type": "stream",
     "text": [
      "C:\\Users\\LuisJ\\AppData\\Local\\Programs\\Python\\Python37-32\\lib\\site-packages\\matplotlib\\pyplot.py:514: RuntimeWarning: More than 20 figures have been opened. Figures created through the pyplot interface (`matplotlib.pyplot.figure`) are retained until explicitly closed and may consume too much memory. (To control this warning, see the rcParam `figure.max_open_warning`).\n",
      "  max_open_warning, RuntimeWarning)\n"
     ]
    },
    {
     "data": {
      "text/plain": [
       "<seaborn.matrix.ClusterGrid at 0xd5dfc10>"
      ]
     },
     "execution_count": 50,
     "metadata": {},
     "output_type": "execute_result"
    }
   ],
   "source": [
    "feature_table_transposed = feature_table.transpose()\n",
    "clustermap(feature_table_transposed, row_cluster=False,col_cluster=True,cmap='Reds')"
   ]
  },
  {
   "cell_type": "markdown",
   "metadata": {},
   "source": [
    "#### Accessing column data\n",
    "\n",
    "We might want to access the rows or columns of our pandas data directly so that we can do calculations. A nice tutorial on this can be found here: https://www.shanelynn.ie/select-pandas-dataframe-rows-and-columns-using-iloc-loc-and-ix/.\n",
    "\n",
    "In brief, we can select a column by indexing into the pandas DataFrame object using a column name. I currently have the OTUs as columns, so we could access them with feature_table[\"OTU1\"]"
   ]
  },
  {
   "cell_type": "code",
   "execution_count": 61,
   "metadata": {},
   "outputs": [
    {
     "name": "stdout",
     "output_type": "stream",
     "text": [
      "patient1     3\n",
      "patient2     4\n",
      "patient3     2\n",
      "patient4     2\n",
      "patient5     0\n",
      "patient6     4\n",
      "patient7     4\n",
      "patient8     4\n",
      "patient9     0\n",
      "patient10    3\n",
      "patient11    2\n",
      "patient12    2\n",
      "Name: OTU1, dtype: int64\n"
     ]
    }
   ],
   "source": [
    "#Access a column and convert it to a list.\n",
    "print(feature_table[\"OTU1\"])\n",
    "\n",
    "\n",
    "\n"
   ]
  },
  {
   "cell_type": "markdown",
   "metadata": {},
   "source": [
    "However, this way of selecting columns in pandas is a bit special-purpose - it doesn't always extend in the simplest way to rows for example.\n",
    "\n",
    "#### A consistent way to access row or column data in pandas\n",
    "\n",
    "An alternative way to index into a pandas DataFrame is by using the .loc indexer (accessed by the name of your dataframe and then .loc)\n",
    "\n",
    "Note that this is not called like a function (so not 'df.loc('whatever')'), but more a way of indexing (closer to how you would call it if loc were a dict that was a property of the dataframe).\n",
    "\n",
    "When using .loc, we specify what rows we want, then what columns we want. We can use the colon character to indicate 'all'. In this way we can do row and column selection using exactly the same syntax, which is nice for those of us who don't like to remember too many things.\n",
    "\n",
    "(More info on this here: https://brohrer.github.io/dataframe_indexing.html)\n",
    "\n",
    "##### Select a column using .loc\n",
    "\n"
   ]
  },
  {
   "cell_type": "code",
   "execution_count": 53,
   "metadata": {},
   "outputs": [
    {
     "name": "stdout",
     "output_type": "stream",
     "text": [
      "Select all of the OTU1 column:\n",
      "patient1     3\n",
      "patient2     4\n",
      "patient3     2\n",
      "patient4     2\n",
      "patient5     0\n",
      "patient6     4\n",
      "patient7     4\n",
      "patient8     4\n",
      "patient9     0\n",
      "patient10    3\n",
      "patient11    2\n",
      "patient12    2\n",
      "Name: OTU1, dtype: int64\n",
      "\n",
      "Select the patient1 row:\n",
      "OTU_ID\n",
      "OTU1    3\n",
      "OTU2    4\n",
      "OTU3    1\n",
      "OTU4    2\n",
      "OTU5    0\n",
      "Name: patient1, dtype: int64\n",
      "\n",
      "Select one cell by specifying row and column:\n",
      "3\n"
     ]
    }
   ],
   "source": [
    "#Recall that : means all, and we specify rows,columns when using .loc\n",
    "print(\"Select all of the OTU1 column:\")\n",
    "selected_column = feature_table.loc[:,'OTU1']\n",
    "print(selected_column)\n",
    "\n"
   ]
  },
  {
   "cell_type": "markdown",
   "metadata": {},
   "source": [
    "Cool! So we see that we now get the count of microbe 1 ('OTU1') in each patient's sample. However, this data type looks kinda funky. That's because it is a pandas Series object. It therefore doesn't print in the same way as either a pandas DataFrame or a python list. We'll talk more about that in a minute. For now, let's continue to explore how to select data using .loc.\n",
    "\n",
    "##### Select a row from a pandas DataFrame with .loc\n"
   ]
  },
  {
   "cell_type": "code",
   "execution_count": null,
   "metadata": {},
   "outputs": [],
   "source": [
    "print(\"\\nSelect the patient1 row:\")\n",
    "selected_row = feature_table.loc['patient1',:]\n",
    "print(selected_row)\n",
    "\n"
   ]
  },
  {
   "cell_type": "markdown",
   "metadata": {},
   "source": [
    "##### Select a single entry in our table using .loc by specifying the row and column names"
   ]
  },
  {
   "cell_type": "code",
   "execution_count": null,
   "metadata": {},
   "outputs": [],
   "source": [
    "print(\"\\nSelect one cell by specifying row and column:\")\n",
    "selected_row_and_column = feature_table.loc['patient1','OTU1']\n",
    "print(selected_row_and_column)"
   ]
  },
  {
   "cell_type": "markdown",
   "metadata": {},
   "source": [
    "##### Testing what we get back and converting it to other data formats.\n",
    "\n",
    "We said up above that these pandas Series objects we got back from selecting row or columns of a dataframe don't look quite like either lists or DataFrames. In this case we know the result is a Series, but in cases like this where we don't already know the type of an object we can use the builtin type() function to check the type of any object in python. "
   ]
  },
  {
   "cell_type": "code",
   "execution_count": 47,
   "metadata": {},
   "outputs": [
    {
     "name": "stdout",
     "output_type": "stream",
     "text": [
      "\n",
      "feature_table['OTU1'] is an object of type: <class 'pandas.core.series.Series'>\n"
     ]
    }
   ],
   "source": [
    "selected_column = feature_table.loc[:,'OTU1']\n",
    "selected_column_type = type(selected_column)\n",
    "\n",
    "#WHAT IS THIS? Print the answer to screen\n",
    "print(\"\\nfeature_table['OTU1'] is an object of type:\", selected_column_type)"
   ]
  },
  {
   "cell_type": "markdown",
   "metadata": {},
   "source": [
    "Great, so we've now proven to ourselves that this is a pandas Series object. We can now do some Googling to find out more about this data type. One great resource is from the Beyond Data Science blog: https://towardsdatascience.com/pandas-series-a-lightweight-intro-b7963a0d62a2. \n",
    "\n",
    "One of the first tasks we might have is to convert this Series back into a basic python type like a list. \n",
    "\n",
    "##### Getting a list out of a pandas Series object\n",
    "\n",
    "Let's say we don't want to work with the data as a series, but instead to convert it to a list. We can do that using the builtin list() function.\n",
    "        "
   ]
  },
  {
   "cell_type": "code",
   "execution_count": 49,
   "metadata": {},
   "outputs": [
    {
     "name": "stdout",
     "output_type": "stream",
     "text": [
      "[3, 4, 2, 2, 0, 4, 4, 4, 0, 3, 2, 2]\n"
     ]
    }
   ],
   "source": [
    "OTU1_data = list(feature_table.loc[:,\"OTU1\"])\n",
    "print(OTU1_data)"
   ]
  },
  {
   "cell_type": "markdown",
   "metadata": {},
   "source": [
    "##### Getting a numpy array object out of a pandas Series object\n",
    "\n",
    "an alternative way of getting numeric data out of a pandas Series object is by calling its .values property, which returns a numpy array of the data.\n",
    "\n",
    "NOTE: values is a *property* (data stored in the object) not a *method* (function associated with the object. The main reason this matters is because if you call .values() with parentheses by accident, you will get an error"
   ]
  },
  {
   "cell_type": "code",
   "execution_count": 59,
   "metadata": {},
   "outputs": [
    {
     "name": "stdout",
     "output_type": "stream",
     "text": [
      "[3 4 2 2 0 4 4 4 0 3 2 2]\n"
     ]
    }
   ],
   "source": [
    "OTU1_data_as_array = feature_table.loc[:,\"OTU1\"].values\n",
    "print(OTU1_data_as_array)"
   ]
  },
  {
   "cell_type": "code",
   "execution_count": 41,
   "metadata": {},
   "outputs": [
    {
     "name": "stdout",
     "output_type": "stream",
     "text": [
      "OTU_ID\n",
      "OTU1    3\n",
      "OTU2    4\n",
      "OTU3    1\n",
      "OTU4    2\n",
      "OTU5    0\n",
      "Name: patient1, dtype: int64\n"
     ]
    }
   ],
   "source": [
    "HTML(feature_table.to_html())\n",
    "patient1_data = feature_table.loc['patient1',:]\n",
    "print(patient1_data)"
   ]
  },
  {
   "cell_type": "markdown",
   "metadata": {},
   "source": [
    "#### Alpha Diversity - Richeness\n",
    "\n",
    "Next we will calculate the alpha diversity in this dataset. This is equivalent to calculating how many species are represented in each with counts > 0"
   ]
  },
  {
   "cell_type": "code",
   "execution_count": null,
   "metadata": {},
   "outputs": [],
   "source": []
  }
 ],
 "metadata": {
  "kernelspec": {
   "display_name": "Python 3",
   "language": "python",
   "name": "python3"
  },
  "language_info": {
   "codemirror_mode": {
    "name": "ipython",
    "version": 3
   },
   "file_extension": ".py",
   "mimetype": "text/x-python",
   "name": "python",
   "nbconvert_exporter": "python",
   "pygments_lexer": "ipython3",
   "version": "3.7.1"
  }
 },
 "nbformat": 4,
 "nbformat_minor": 2
}
