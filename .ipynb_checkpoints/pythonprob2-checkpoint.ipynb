{
 "cells": [
  {
   "cell_type": "code",
   "execution_count": null,
   "metadata": {
    "collapsed": true
   },
   "outputs": [],
   "source": [
    "# Python Problems 2\n",
    "# Luis J. Ramirez\n",
    "# In this assignment, we work on phylogenitic reconstruction problems that are presented by Dr. Greg Caporaso.\n",
    "\n",
    "# Before we can reconstruct a phylogenetic tree from a DNA sequence, we must first simulate the process of evolution\n",
    "# for a DNA sequence.\n",
    "# We are going to use a python function to model a sequence evolution, then we will run that function to simulate\n",
    "# multiple generations of evolution.\n",
    "\n",
    "import numpy as np\n",
    "import seaborn as sns\n",
    "import random\n",
    "from IPython.core import page\n",
    "\n",
    "# First we take a look at the function that is going to help us model this DNA sequence evolution.\n",
    "# This is were most of the modeling takes place.\n",
    "\n",
    "from algorithms import evolve_sequence\n",
    "\n",
    "# This function will help us model a single generation of a single sequence.\n",
    "# Here, clonal reproduction will occur\n",
    "\n",
    "from algorithms import evolve_generation\n",
    "\n",
    "# Then we have the entry point function. We provide the parameters for the simulation: Initial sequence, number of\n",
    "# generations and mutation probabilities.\n",
    "# This code is built on the previously mentioned functions.\n",
    "\n",
    "from algorithms import evolve_generations\n",
    "\n",
    "# now we can run a simulation using a random DNA sequence and evolve three generations. We will use evolve_sequence from\n",
    "# algorithms and pass the verbose = true parameter.\n",
    "\n",
    "from algorithms import random_sequence\n",
    "\n",
    "import skbio\n",
    "\n",
    "sequence = random_sequence(skbio.DNA, 50)\n",
    "\n",
    "sequences = evolve_generations(sequence, 3, 0.1, 0.05, 0.1, True)\n",
    "\n",
    "\n"
   ]
  }
 ],
 "metadata": {
  "kernelspec": {
   "display_name": "Python 3",
   "language": "python",
   "name": "python3"
  },
  "language_info": {
   "codemirror_mode": {
    "name": "ipython",
    "version": 3
   },
   "file_extension": ".py",
   "mimetype": "text/x-python",
   "name": "python",
   "nbconvert_exporter": "python",
   "pygments_lexer": "ipython3",
   "version": "3.7.1"
  }
 },
 "nbformat": 4,
 "nbformat_minor": 1
}
