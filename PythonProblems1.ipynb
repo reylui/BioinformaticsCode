{
 "cells": [
  {
   "cell_type": "markdown",
   "metadata": {
    "collapsed": true
   },
   "source": [
    "#### Luis Ramirez\n",
    "#### Problem Set 1\n",
    "In this assingment I work on problems from a bioinformatics text by: Dr. Greg Caporaso\n",
    "\n",
    "#### Chapter 2.1: Pairwise Sequence Alingment####\n",
    "We explore sequence similarity"
   ]
  },
  {
   "cell_type": "code",
   "execution_count": 1,
   "metadata": {},
   "outputs": [
    {
     "name": "stdout",
     "output_type": "stream",
     "text": [
      "Populating the interactive namespace from numpy and matplotlib\n"
     ]
    }
   ],
   "source": [
    "%pylab inline \n",
    "import numpy as np\n",
    "from IPython.core.display import HTML\n",
    "from IPython.core import page\n",
    "page.page = print\n"
   ]
  },
  {
   "cell_type": "code",
   "execution_count": 2,
   "metadata": {},
   "outputs": [
    {
     "name": "stdout",
     "output_type": "stream",
     "text": [
      "ACCCAGGTTAACGGTGACCAGGTACCAGAAGGGTACCAGGTAGGACACACGGGGATTAA\nACCGAGGTTAACGGTGACCAGGTACCAGAAGGGTACCAGGTAGGAGACACGGCGATTAA\nTTCCAGGTAAACGGTGACCAGGTACCAGTTGCGTTTGTTGTAGGAGACACGGGGACCCA\n"
     ]
    }
   ],
   "source": [
    "from scipy.spatial.distance import hamming\n",
    "from skbio import DNA\n",
    "\n",
    "\n",
    "r1 = DNA(\"ACCCAGGTTAACGGTGACCAGGTACCAGAAGGGTACCAGGTAGGACACACGGGGATTAA\")\n",
    "r2 = DNA(\"ACCGAGGTTAACGGTGACCAGGTACCAGAAGGGTACCAGGTAGGAGACACGGCGATTAA\")\n",
    "q1 = DNA(\"TTCCAGGTAAACGGTGACCAGGTACCAGTTGCGTTTGTTGTAGGAGACACGGGGACCCA\")\n",
    "\n",
    "print(r1)\n",
    "print(r2)\n",
    "print(q1)"
   ]
  },
  {
   "cell_type": "markdown",
   "metadata": {},
   "source": [
    "Storinng three DNA sequences as variables. Then we compute the hamming distance between them using the hamming() function.\n",
    "    "
   ]
  },
  {
   "cell_type": "code",
   "execution_count": null,
   "metadata": {},
   "outputs": [
    {
     "name": "stdout",
     "output_type": "stream",
     "text": [
      "0.2542372881355932\n",
      "0.2711864406779661\n"
     ]
    }
   ],
   "source": [
    "%psource hamming\n",
    "\n",
    "print(hamming(r1,q1))\n",
    "print(hamming(r2,q1))"
   ]
  },
  {
   "cell_type": "markdown",
   "metadata": {},
   "source": [
    "we can observe that q1 has a smaller distance to r1 than it does to r2, so q1 is more similar to r1 than r2. However, it is not always this simple.\n",
    "\n",
    "We assumed that only substitution events have occured, meaning one DNA base was substituted with another. So we define q2, which is similar to q1 except that a single base has been deleted at the beginning of the sequence. And a single base has been inserted at the end of the sequence. "
   ]
  },
  {
   "cell_type": "code",
   "execution_count": 7,
   "metadata": {
    "scrolled": true
   },
   "outputs": [
    {
     "name": "stdout",
     "output_type": "stream",
     "text": [
      "TTCCAGGTAAACGGTGACCAGGTACCAGTTGCGTTTGTTGTAGGAGACACGGGGACCCA\n",
      "TCCAGGTAAACGGTGACCAGGTACCAGTTGCGTTTGTTGTAGGAGACACGGGGACCCAT\n",
      "0.7288135593220338\n"
     ]
    }
   ],
   "source": [
    "q2 = DNA(\"TCCAGGTAAACGGTGACCAGGTACCAGTTGCGTTTGTTGTAGGAGACACGGGGACCCAT\")\n",
    "\n",
    "print(q1)\n",
    "print(q2)\n",
    "\n",
    "print(hamming(r1, q2))"
   ]
  },
  {
   "cell_type": "markdown",
   "metadata": {},
   "source": [
    "We note how the distance increased with two small changes. The deletion even at the beginning of `q2` shifted that sequence relative to `r1`, this may have resulted in the many bases \"downstream\" of the deleted bases being different. The large distance may not be biologically justified. \n",
    "\n",
    "What would be nice to do is to have a way to indicate that a deletion has occured in `q2`. Let's define `q3` where we use a `-` character to indicate a deletion with respect to `r1`. This might be a more reasonable result, lets see..."
   ]
  },
  {
   "cell_type": "code",
   "execution_count": 9,
   "metadata": {
    "scrolled": true
   },
   "outputs": [
    {
     "name": "stdout",
     "output_type": "stream",
     "text": [
      "TTCCAGGTAAACGGTGACCAGGTACCAGTTGCGTTTGTTGTAGGAGACACGGGGACCCA\n",
      "-TCCAGGTAAACGGTGACCAGGTACCAGTTGCGTTTGTTGTAGGAGACACGGGGACCCA\n",
      "0.2542372881355932\n"
     ]
    }
   ],
   "source": [
    "q3 = DNA(\"-TCCAGGTAAACGGTGACCAGGTACCAGTTGCGTTTGTTGTAGGAGACACGGGGACCCA\")\n",
    "\n",
    "print(q1)\n",
    "print(q3)\n",
    "\n",
    "print(hamming(r1, q3))"
   ]
  },
  {
   "cell_type": "markdown",
   "metadata": {},
   "source": [
    "What we did created a pairwise alignment of `r1` and `q3`. In other words, we have aligned positions to maximize the similarity between the two sequences. We will refer `-` as gap characters. \n",
    "\n",
    "We can observe the alignment ourselves if we print the output. "
   ]
  },
  {
   "cell_type": "code",
   "execution_count": null,
   "metadata": {},
   "outputs": [],
   "source": [
    "print(r1)\n",
    "print(q3)"
   ]
  },
  {
   "cell_type": "markdown",
   "metadata": {},
   "source": [
    "#### 2.1.1: Answering what is a sequence alignemnt? \n",
    "Over the course of biological evolution, a DNA sequence changes. Frequently due to random errors in replication. These errors are known as mutations. Here are a few examples of mutations: Substitutions, where one base (or amino acid) is replaced. Insertions, where one or more contiguous bases are inserted into a sequence. Deletions, where one or more contiguous bases are deleted from a sequence.     "
   ]
  },
  {
   "cell_type": "code",
   "execution_count": 2,
   "metadata": {},
   "outputs": [],
   "source": [
    "from show_F import show_F\n",
    "%psource show_F\n",
    "\n",
    "seq1 = (\"\")\n",
    "seq2 = (\"\")\n",
    "\n"
   ]
  },
  {
   "cell_type": "code",
   "execution_count": null,
   "metadata": {},
   "outputs": [],
   "source": []
  },
  {
   "cell_type": "code",
   "execution_count": 2,
   "metadata": {},
   "outputs": [],
   "source": []
  },
  {
   "cell_type": "code",
   "execution_count": 2,
   "metadata": {},
   "outputs": [],
   "source": []
  },
  {
   "cell_type": "code",
   "execution_count": 2,
   "metadata": {},
   "outputs": [],
   "source": []
  },
  {
   "cell_type": "code",
   "execution_count": 2,
   "metadata": {},
   "outputs": [],
   "source": []
  },
  {
   "cell_type": "code",
   "execution_count": null,
   "metadata": {},
   "outputs": [],
   "source": []
  }
 ],
 "metadata": {
  "kernelspec": {
   "display_name": "Python 3",
   "language": "python",
   "name": "python3"
  },
  "language_info": {
   "codemirror_mode": {
    "name": "ipython",
    "version": 3
   },
   "file_extension": ".py",
   "mimetype": "text/x-python",
   "name": "python",
   "nbconvert_exporter": "python",
   "pygments_lexer": "ipython3",
   "version": "3.7.1"
  }
 },
 "nbformat": 4,
 "nbformat_minor": 1
}
