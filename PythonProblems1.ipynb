{
 "cells": [
  {
   "cell_type": "markdown",
   "metadata": {
    "collapsed": true
   },
   "source": [
    "#### Luis Ramirez\n",
    "#### Problem Set 1\n",
    "In this assingment I work on problems from a bioinformatics text by: Dr. Greg Caporaso\n",
    "\n",
    "#### Chapter 2.1: Pairwise Sequence Alingment####\n",
    "We explore sequence similarity"
   ]
  },
  {
   "cell_type": "code",
   "execution_count": 2,
   "metadata": {},
   "outputs": [
    {
     "name": "stdout",
     "output_type": "stream",
     "text": [
      "Populating the interactive namespace from numpy and matplotlib\n"
     ]
    }
   ],
   "source": [
    "%pylab inline \n",
    "import numpy as np\n",
    "from IPython.core.display import HTML\n",
    "from IPython.core import page\n",
    "page.page = print\n"
   ]
  },
  {
   "cell_type": "code",
   "execution_count": 10,
   "metadata": {},
   "outputs": [
    {
     "name": "stdout",
     "output_type": "stream",
     "text": [
      "ACCCAGGTTAACGGTGACCAGGTACCAGAAGGGTACCAGGTAGGACACACGGGGATTAA\nACCGAGGTTAACGGTGACCAGGTACCAGAAGGGTACCAGGTAGGAGACACGGCGATTAA\nTTCCAGGTAAACGGTGACCAGGTACCAGTTGCGTTTGTTGTAGGAGACACGGGGACCCA\n"
     ]
    }
   ],
   "source": [
    "from scipy.spatial.distance import hamming\n",
    "from skbio import DNA\n",
    "\n",
    "\n",
    "r1 = DNA(\"ACCCAGGTTAACGGTGACCAGGTACCAGAAGGGTACCAGGTAGGACACACGGGGATTAA\")\n",
    "r2 = DNA(\"ACCGAGGTTAACGGTGACCAGGTACCAGAAGGGTACCAGGTAGGAGACACGGCGATTAA\")\n",
    "q1 = DNA(\"TTCCAGGTAAACGGTGACCAGGTACCAGTTGCGTTTGTTGTAGGAGACACGGGGACCCA\")\n",
    "\n",
    "print(r1)\n",
    "print(r2)\n",
    "print(q1)"
   ]
  },
  {
   "cell_type": "markdown",
   "metadata": {},
   "source": [
    "Storinng three DNA sequences as variables. Then we compute the hamming distance between them using the hamming() function.\n",
    "    "
   ]
  },
  {
   "cell_type": "code",
   "execution_count": 11,
   "metadata": {},
   "outputs": [
    {
     "name": "stdout",
     "output_type": "stream",
     "text": [
      "\u001b[0;32mdef\u001b[0m \u001b[0mhamming\u001b[0m\u001b[0;34m(\u001b[0m\u001b[0mu\u001b[0m\u001b[0;34m,\u001b[0m \u001b[0mv\u001b[0m\u001b[0;34m,\u001b[0m \u001b[0mw\u001b[0m\u001b[0;34m=\u001b[0m\u001b[0;32mNone\u001b[0m\u001b[0;34m)\u001b[0m\u001b[0;34m:\u001b[0m\u001b[0;34m\n\u001b[0m    \u001b[0;34m\"\"\"\n    Compute the Hamming distance between two 1-D arrays.\n\n    The Hamming distance between 1-D arrays `u` and `v`, is simply the\n    proportion of disagreeing components in `u` and `v`. If `u` and `v` are\n    boolean vectors, the Hamming distance is\n\n    .. math::\n\n       \\\\frac{c_{01} + c_{10}}{n}\n\n    where :math:`c_{ij}` is the number of occurrences of\n    :math:`\\\\mathtt{u[k]} = i` and :math:`\\\\mathtt{v[k]} = j` for\n    :math:`k < n`.\n\n    Parameters\n    ----------\n    u : (N,) array_like\n        Input array.\n    v : (N,) array_like\n        Input array.\n    w : (N,) array_like, optional\n        The weights for each value in `u` and `v`. Default is None,\n        which gives each value a weight of 1.0\n\n    Returns\n    -------\n    hamming : double\n        The Hamming distance between vectors `u` and `v`.\n\n    Examples\n    --------\n    >>> from scipy.spatial import distance\n    >>> distance.hamming([1, 0, 0], [0, 1, 0])\n    0.66666666666666663\n    >>> distance.hamming([1, 0, 0], [1, 1, 0])\n    0.33333333333333331\n    >>> distance.hamming([1, 0, 0], [2, 0, 0])\n    0.33333333333333331\n    >>> distance.hamming([1, 0, 0], [3, 0, 0])\n    0.33333333333333331\n\n    \"\"\"\u001b[0m\u001b[0;34m\n\u001b[0m    \u001b[0mu\u001b[0m \u001b[0;34m=\u001b[0m \u001b[0m_validate_vector\u001b[0m\u001b[0;34m(\u001b[0m\u001b[0mu\u001b[0m\u001b[0;34m)\u001b[0m\u001b[0;34m\n\u001b[0m    \u001b[0mv\u001b[0m \u001b[0;34m=\u001b[0m \u001b[0m_validate_vector\u001b[0m\u001b[0;34m(\u001b[0m\u001b[0mv\u001b[0m\u001b[0;34m)\u001b[0m\u001b[0;34m\n\u001b[0m    \u001b[0;32mif\u001b[0m \u001b[0mu\u001b[0m\u001b[0;34m.\u001b[0m\u001b[0mshape\u001b[0m \u001b[0;34m!=\u001b[0m \u001b[0mv\u001b[0m\u001b[0;34m.\u001b[0m\u001b[0mshape\u001b[0m\u001b[0;34m:\u001b[0m\u001b[0;34m\n\u001b[0m        \u001b[0;32mraise\u001b[0m \u001b[0mValueError\u001b[0m\u001b[0;34m(\u001b[0m\u001b[0;34m'The 1d arrays must have equal lengths.'\u001b[0m\u001b[0;34m)\u001b[0m\u001b[0;34m\n\u001b[0m    \u001b[0mu_ne_v\u001b[0m \u001b[0;34m=\u001b[0m \u001b[0mu\u001b[0m \u001b[0;34m!=\u001b[0m \u001b[0mv\u001b[0m\u001b[0;34m\n\u001b[0m    \u001b[0;32mif\u001b[0m \u001b[0mw\u001b[0m \u001b[0;32mis\u001b[0m \u001b[0;32mnot\u001b[0m \u001b[0;32mNone\u001b[0m\u001b[0;34m:\u001b[0m\u001b[0;34m\n\u001b[0m        \u001b[0mw\u001b[0m \u001b[0;34m=\u001b[0m \u001b[0m_validate_weights\u001b[0m\u001b[0;34m(\u001b[0m\u001b[0mw\u001b[0m\u001b[0;34m)\u001b[0m\u001b[0;34m\n\u001b[0m    \u001b[0;32mreturn\u001b[0m \u001b[0mnp\u001b[0m\u001b[0;34m.\u001b[0m\u001b[0maverage\u001b[0m\u001b[0;34m(\u001b[0m\u001b[0mu_ne_v\u001b[0m\u001b[0;34m,\u001b[0m \u001b[0mweights\u001b[0m\u001b[0;34m=\u001b[0m\u001b[0mw\u001b[0m\u001b[0;34m)\u001b[0m\u001b[0;34m\u001b[0m\u001b[0;34m\u001b[0m\u001b[0m\n\n0.2542372881355932\n0.2711864406779661\n"
     ]
    }
   ],
   "source": [
    "%psource hamming\n",
    "\n",
    "print(hamming(r1,q1))\n",
    "print(hamming(r2,q1))"
   ]
  },
  {
   "cell_type": "markdown",
   "metadata": {},
   "source": [
    "we can observe that q1 has a smaller distance to r1 than it does to r2, so q1 is more similar to r1 than r2. However, it is not always this simple.\n",
    "\n",
    "We assumed that only substitution events have occured, meaning one DNA base was substituted with another. So we define q2, which is similar to q1 except that a single base has been deleted at the beginning of the sequence. And a single base has been inserted at the end of the sequence. "
   ]
  },
  {
   "cell_type": "code",
   "execution_count": 12,
   "metadata": {
    "scrolled": true
   },
   "outputs": [
    {
     "name": "stdout",
     "output_type": "stream",
     "text": [
      "TTCCAGGTAAACGGTGACCAGGTACCAGTTGCGTTTGTTGTAGGAGACACGGGGACCCA\nTCCAGGTAAACGGTGACCAGGTACCAGTTGCGTTTGTTGTAGGAGACACGGGGACCCAT\n0.7288135593220338\n"
     ]
    }
   ],
   "source": [
    "q2 = DNA(\"TCCAGGTAAACGGTGACCAGGTACCAGTTGCGTTTGTTGTAGGAGACACGGGGACCCAT\")\n",
    "\n",
    "print(q1)\n",
    "print(q2)\n",
    "\n",
    "print(hamming(r1, q2))"
   ]
  },
  {
   "cell_type": "markdown",
   "metadata": {},
   "source": [
    "We note how the distance increased with two small changes. The deletion even at the beginning of `q2` shifted that sequence relative to `r1`, this may have resulted in the many bases \"downstream\" of the deleted bases being different. The large distance may not be biologically justified. \n",
    "\n",
    "What would be nice to do is to have a way to indicate that a deletion has occured in `q2`. Let's define `q3` where we use a `-` character to indicate a deletion with respect to `r1`. This might be a more reasonable result, lets see..."
   ]
  },
  {
   "cell_type": "code",
   "execution_count": 13,
   "metadata": {
    "scrolled": true
   },
   "outputs": [
    {
     "name": "stdout",
     "output_type": "stream",
     "text": [
      "TTCCAGGTAAACGGTGACCAGGTACCAGTTGCGTTTGTTGTAGGAGACACGGGGACCCA\n-TCCAGGTAAACGGTGACCAGGTACCAGTTGCGTTTGTTGTAGGAGACACGGGGACCCA\n0.2542372881355932\n"
     ]
    }
   ],
   "source": [
    "q3 = DNA(\"-TCCAGGTAAACGGTGACCAGGTACCAGTTGCGTTTGTTGTAGGAGACACGGGGACCCA\")\n",
    "\n",
    "print(q1)\n",
    "print(q3)\n",
    "\n",
    "print(hamming(r1, q3))"
   ]
  },
  {
   "cell_type": "markdown",
   "metadata": {},
   "source": [
    "What we did created a pairwise alignment of `r1` and `q3`. In other words, we have aligned positions to maximize the similarity between the two sequences. We will refer `-` as gap characters. \n",
    "\n",
    "We can observe the alignment ourselves if we print the output. "
   ]
  },
  {
   "cell_type": "code",
   "execution_count": 14,
   "metadata": {},
   "outputs": [
    {
     "name": "stdout",
     "output_type": "stream",
     "text": [
      "ACCCAGGTTAACGGTGACCAGGTACCAGAAGGGTACCAGGTAGGACACACGGGGATTAA\n-TCCAGGTAAACGGTGACCAGGTACCAGTTGCGTTTGTTGTAGGAGACACGGGGACCCA\n"
     ]
    }
   ],
   "source": [
    "print(r1)\n",
    "print(q3)"
   ]
  },
  {
   "cell_type": "markdown",
   "metadata": {},
   "source": [
    "#### 2.1.1: Answering what is a sequence alignemnt? ####\n",
    "Over the course of biological evolution, a DNA sequence changes. Frequently due to random errors in replication. These errors are known as mutations. Here are a few examples of mutations: Substitutions, where one base (or amino acid) is replaced. Insertions, where one or more contiguous bases are inserted into a sequence. Deletions, where one or more contiguous bases are deleted from a sequence. Ancestral DNA sequences, over time, might evolve into two derived sequences. When two ore more sequences are derived from a single ancestral sequence. Such sequences are said to be **homologs** of one another.   \n",
    "\n",
    "So, the goal of pairwise seqence alignment is to generate a hypothesis about which sequence positions are derived from a common ancestral sequence position. This hypotheis is developed by aligning the sequences to one another by inserting gaps as necessary such that the similiarity is maximixed. This approach is known as maximum parsimony (Occam's Razor), where the most likely explanation is the simplist one. \n",
    "\n",
    "Since we do not know what the ancestral sequence was, when we encounter a gap in a pairwise sequence alignment we are unsure if a deletion or insertion occured in either of the sequences. These types of events will be refered to as **indel**.\n",
    "\n",
    "#### 2.1.2 Practicing a procedure for aligning a pair of sequences ####\n",
    " We practice a basic informatics algorithms for aligning a pair of sequences. First we define the two sequences, `seq1` and `seq2`."
   ]
  },
  {
   "cell_type": "code",
   "execution_count": 15,
   "metadata": {},
   "outputs": [],
   "source": [
    "seq1 = DNA(\"ACCGGTGGAACCGGTAACACCCAC\")\n",
    "seq2 = DNA(\"ACCGGTAACCGGTTAACACCCAC\")"
   ]
  },
  {
   "cell_type": "markdown",
   "metadata": {},
   "source": [
    "We are going to use a function called `show_F` to display a table that we are using to develop our alignment. We can also view the source code"
   ]
  },
  {
   "cell_type": "code",
   "execution_count": 16,
   "metadata": {
    "collapsed": true
   },
   "outputs": [
    {
     "name": "stdout",
     "output_type": "stream",
     "text": [
      "\u001b[0;32mfrom\u001b[0m \u001b[0mskbio\u001b[0m\u001b[0;34m.\u001b[0m\u001b[0malignment\u001b[0m \u001b[0;32mimport\u001b[0m \u001b[0m_tabular_msa\u001b[0m\u001b[0;34m\n\u001b[0m\u001b[0;32mfrom\u001b[0m \u001b[0mtabulate\u001b[0m \u001b[0;32mimport\u001b[0m \u001b[0mtabulate\u001b[0m\u001b[0;34m\n\u001b[0m\u001b[0;32mdef\u001b[0m \u001b[0mshow_F\u001b[0m\u001b[0;34m(\u001b[0m\u001b[0mh_sequence\u001b[0m\u001b[0;34m,\u001b[0m \u001b[0mv_sequence\u001b[0m\u001b[0;34m,\u001b[0m \u001b[0mdata\u001b[0m\u001b[0;34m,\u001b[0m \u001b[0mhide_zeros\u001b[0m\u001b[0;34m=\u001b[0m\u001b[0;32mFalse\u001b[0m\u001b[0;34m,\u001b[0m \u001b[0mnonzero_val\u001b[0m\u001b[0;34m=\u001b[0m\u001b[0;32mNone\u001b[0m\u001b[0;34m)\u001b[0m\u001b[0;34m:\u001b[0m\u001b[0;34m\n\u001b[0m\u001b[0;34m\n\u001b[0m    \u001b[0mrows\u001b[0m \u001b[0;34m=\u001b[0m \u001b[0;34m[\u001b[0m\u001b[0;34m]\u001b[0m\u001b[0;34m\n\u001b[0m    \u001b[0mcol_headers\u001b[0m \u001b[0;34m=\u001b[0m \u001b[0;34m[\u001b[0m\u001b[0mc\u001b[0m\u001b[0;34m.\u001b[0m\u001b[0mdecode\u001b[0m\u001b[0;34m(\u001b[0m\u001b[0;34m'UTF-8'\u001b[0m\u001b[0;34m)\u001b[0m \u001b[0;32mfor\u001b[0m \u001b[0mc\u001b[0m \u001b[0;32min\u001b[0m \u001b[0mh_sequence\u001b[0m\u001b[0;34m.\u001b[0m\u001b[0mvalues\u001b[0m\u001b[0;34m]\u001b[0m\u001b[0;34m\n\u001b[0m    \u001b[0mrow_headers\u001b[0m \u001b[0;34m=\u001b[0m \u001b[0;34m[\u001b[0m\u001b[0mc\u001b[0m\u001b[0;34m.\u001b[0m\u001b[0mdecode\u001b[0m\u001b[0;34m(\u001b[0m\u001b[0;34m'UTF-8'\u001b[0m\u001b[0;34m)\u001b[0m \u001b[0;32mfor\u001b[0m \u001b[0mc\u001b[0m \u001b[0;32min\u001b[0m \u001b[0mv_sequence\u001b[0m\u001b[0;34m.\u001b[0m\u001b[0mvalues\u001b[0m\u001b[0;34m]\u001b[0m\u001b[0;34m\n\u001b[0m    \u001b[0mpad_headers\u001b[0m\u001b[0;34m:\u001b[0m \u001b[0mUnion\u001b[0m\u001b[0;34m[\u001b[0m\u001b[0mbool\u001b[0m\u001b[0;34m,\u001b[0m \u001b[0mAny\u001b[0m\u001b[0;34m]\u001b[0m \u001b[0;34m=\u001b[0m \u001b[0mdata\u001b[0m\u001b[0;34m.\u001b[0m\u001b[0mshape\u001b[0m \u001b[0;34m==\u001b[0m \u001b[0;34m(\u001b[0m\u001b[0mlen\u001b[0m\u001b[0;34m(\u001b[0m\u001b[0mrow_headers\u001b[0m\u001b[0;34m)\u001b[0m \u001b[0;34m+\u001b[0m \u001b[0;36m1\u001b[0m\u001b[0;34m,\u001b[0m \u001b[0mlen\u001b[0m\u001b[0;34m(\u001b[0m\u001b[0mcol_headers\u001b[0m\u001b[0;34m)\u001b[0m \u001b[0;34m+\u001b[0m \u001b[0;36m1\u001b[0m\u001b[0;34m)\u001b[0m\u001b[0;34m\n\u001b[0m    \u001b[0;32mif\u001b[0m \u001b[0mpad_headers\u001b[0m\u001b[0;34m:\u001b[0m\u001b[0;34m\n\u001b[0m        \u001b[0mrow_headers\u001b[0m \u001b[0;34m=\u001b[0m \u001b[0;34m[\u001b[0m\u001b[0;34m\" \"\u001b[0m\u001b[0;34m]\u001b[0m \u001b[0;34m+\u001b[0m \u001b[0mrow_headers\u001b[0m\u001b[0;34m\n\u001b[0m        \u001b[0mcol_headers\u001b[0m \u001b[0;34m=\u001b[0m \u001b[0;34m[\u001b[0m\u001b[0;34m\" \"\u001b[0m\u001b[0;34m]\u001b[0m \u001b[0;34m+\u001b[0m \u001b[0mcol_headers\u001b[0m\u001b[0;34m\n\u001b[0m    \u001b[0;32mfor\u001b[0m \u001b[0mh\u001b[0m\u001b[0;34m,\u001b[0m \u001b[0md\u001b[0m \u001b[0;32min\u001b[0m \u001b[0mzip\u001b[0m\u001b[0;34m(\u001b[0m\u001b[0mrow_headers\u001b[0m\u001b[0;34m,\u001b[0m \u001b[0mdata\u001b[0m\u001b[0;34m)\u001b[0m\u001b[0;34m:\u001b[0m\u001b[0;34m\n\u001b[0m        \u001b[0mcurrent_row\u001b[0m \u001b[0;34m=\u001b[0m \u001b[0;34m[\u001b[0m\u001b[0;34m\"<b>%s</b>\"\u001b[0m \u001b[0;34m%\u001b[0m \u001b[0mh\u001b[0m\u001b[0;34m]\u001b[0m\u001b[0;34m\n\u001b[0m        \u001b[0;32mfor\u001b[0m \u001b[0me\u001b[0m \u001b[0;32min\u001b[0m \u001b[0md\u001b[0m\u001b[0;34m:\u001b[0m\u001b[0;34m\n\u001b[0m            \u001b[0;32mif\u001b[0m \u001b[0me\u001b[0m \u001b[0;34m==\u001b[0m \u001b[0;36m0\u001b[0m\u001b[0;34m:\u001b[0m\u001b[0;34m\n\u001b[0m                \u001b[0;32mif\u001b[0m \u001b[0mhide_zeros\u001b[0m\u001b[0;34m:\u001b[0m\u001b[0;34m\n\u001b[0m                    \u001b[0mcurrent_row\u001b[0m\u001b[0;34m.\u001b[0m\u001b[0mappend\u001b[0m\u001b[0;34m(\u001b[0m\u001b[0;34m''\u001b[0m\u001b[0;34m)\u001b[0m\u001b[0;34m\n\u001b[0m                \u001b[0;32melse\u001b[0m\u001b[0;34m:\u001b[0m\u001b[0;34m\n\u001b[0m                    \u001b[0mcurrent_row\u001b[0m\u001b[0;34m.\u001b[0m\u001b[0mappend\u001b[0m\u001b[0;34m(\u001b[0m\u001b[0;36m0\u001b[0m\u001b[0;34m)\u001b[0m\u001b[0;34m\n\u001b[0m            \u001b[0;32melse\u001b[0m\u001b[0;34m:\u001b[0m\u001b[0;34m\n\u001b[0m                \u001b[0;32mif\u001b[0m \u001b[0mnonzero_val\u001b[0m \u001b[0;32mis\u001b[0m \u001b[0;32mnot\u001b[0m \u001b[0;32mNone\u001b[0m\u001b[0;34m:\u001b[0m\u001b[0;34m\n\u001b[0m                    \u001b[0mcurrent_row\u001b[0m\u001b[0;34m.\u001b[0m\u001b[0mappend\u001b[0m\u001b[0;34m(\u001b[0m\u001b[0mnonzero_val\u001b[0m\u001b[0;34m)\u001b[0m\u001b[0;34m\n\u001b[0m                \u001b[0;32melse\u001b[0m\u001b[0;34m:\u001b[0m\u001b[0;34m\n\u001b[0m                    \u001b[0mcurrent_row\u001b[0m\u001b[0;34m.\u001b[0m\u001b[0mappend\u001b[0m\u001b[0;34m(\u001b[0m\u001b[0me\u001b[0m\u001b[0;34m)\u001b[0m\u001b[0;34m\n\u001b[0m        \u001b[0mrows\u001b[0m\u001b[0;34m.\u001b[0m\u001b[0mappend\u001b[0m\u001b[0;34m(\u001b[0m\u001b[0mcurrent_row\u001b[0m\u001b[0;34m)\u001b[0m\u001b[0;34m\n\u001b[0m    \u001b[0;32mreturn\u001b[0m \u001b[0mtabulate\u001b[0m\u001b[0;34m(\u001b[0m\u001b[0mrows\u001b[0m\u001b[0;34m,\u001b[0m \u001b[0mheaders\u001b[0m\u001b[0;34m=\u001b[0m\u001b[0mcol_headers\u001b[0m\u001b[0;34m,\u001b[0m \u001b[0mtablefmt\u001b[0m\u001b[0;34m=\u001b[0m\u001b[0;34m'html'\u001b[0m\u001b[0;34m)\u001b[0m\u001b[0;34m\u001b[0m\u001b[0;34m\u001b[0m\u001b[0m\n\n"
     ]
    }
   ],
   "source": [
    "from BioinformaticsCode import show_F\n",
    "from tabulate import tabulate\n",
    "%psource show_F"
   ]
  },
  {
   "cell_type": "markdown",
   "metadata": {},
   "source": [
    "First we create a blank matrix where the rows and columns represent the positions in the sequences. Initialize with zeros as follows:"
   ]
  },
  {
   "cell_type": "code",
   "execution_count": 17,
   "metadata": {
    "collapsed": true
   },
   "outputs": [
    {
     "data": {
      "text/html": [
       "<table>\n",
       "<thead>\n",
       "<tr><th>        </th><th style=\"text-align: right;\">  A</th><th style=\"text-align: right;\">  C</th><th style=\"text-align: right;\">  C</th><th style=\"text-align: right;\">  G</th><th style=\"text-align: right;\">  G</th><th style=\"text-align: right;\">  T</th><th style=\"text-align: right;\">  G</th><th style=\"text-align: right;\">  G</th><th style=\"text-align: right;\">  A</th><th style=\"text-align: right;\">  A</th><th style=\"text-align: right;\">  C</th><th style=\"text-align: right;\">  C</th><th style=\"text-align: right;\">  G</th><th style=\"text-align: right;\">  G</th><th style=\"text-align: right;\">  T</th><th style=\"text-align: right;\">  A</th><th style=\"text-align: right;\">  A</th><th style=\"text-align: right;\">  C</th><th style=\"text-align: right;\">  A</th><th style=\"text-align: right;\">  C</th><th style=\"text-align: right;\">  C</th><th style=\"text-align: right;\">  C</th><th style=\"text-align: right;\">  A</th><th style=\"text-align: right;\">  C</th></tr>\n",
       "</thead>\n",
       "<tbody>\n",
       "<tr><td><b>A</b></td><td style=\"text-align: right;\">  0</td><td style=\"text-align: right;\">  0</td><td style=\"text-align: right;\">  0</td><td style=\"text-align: right;\">  0</td><td style=\"text-align: right;\">  0</td><td style=\"text-align: right;\">  0</td><td style=\"text-align: right;\">  0</td><td style=\"text-align: right;\">  0</td><td style=\"text-align: right;\">  0</td><td style=\"text-align: right;\">  0</td><td style=\"text-align: right;\">  0</td><td style=\"text-align: right;\">  0</td><td style=\"text-align: right;\">  0</td><td style=\"text-align: right;\">  0</td><td style=\"text-align: right;\">  0</td><td style=\"text-align: right;\">  0</td><td style=\"text-align: right;\">  0</td><td style=\"text-align: right;\">  0</td><td style=\"text-align: right;\">  0</td><td style=\"text-align: right;\">  0</td><td style=\"text-align: right;\">  0</td><td style=\"text-align: right;\">  0</td><td style=\"text-align: right;\">  0</td><td style=\"text-align: right;\">  0</td></tr>\n",
       "<tr><td><b>C</b></td><td style=\"text-align: right;\">  0</td><td style=\"text-align: right;\">  0</td><td style=\"text-align: right;\">  0</td><td style=\"text-align: right;\">  0</td><td style=\"text-align: right;\">  0</td><td style=\"text-align: right;\">  0</td><td style=\"text-align: right;\">  0</td><td style=\"text-align: right;\">  0</td><td style=\"text-align: right;\">  0</td><td style=\"text-align: right;\">  0</td><td style=\"text-align: right;\">  0</td><td style=\"text-align: right;\">  0</td><td style=\"text-align: right;\">  0</td><td style=\"text-align: right;\">  0</td><td style=\"text-align: right;\">  0</td><td style=\"text-align: right;\">  0</td><td style=\"text-align: right;\">  0</td><td style=\"text-align: right;\">  0</td><td style=\"text-align: right;\">  0</td><td style=\"text-align: right;\">  0</td><td style=\"text-align: right;\">  0</td><td style=\"text-align: right;\">  0</td><td style=\"text-align: right;\">  0</td><td style=\"text-align: right;\">  0</td></tr>\n",
       "<tr><td><b>C</b></td><td style=\"text-align: right;\">  0</td><td style=\"text-align: right;\">  0</td><td style=\"text-align: right;\">  0</td><td style=\"text-align: right;\">  0</td><td style=\"text-align: right;\">  0</td><td style=\"text-align: right;\">  0</td><td style=\"text-align: right;\">  0</td><td style=\"text-align: right;\">  0</td><td style=\"text-align: right;\">  0</td><td style=\"text-align: right;\">  0</td><td style=\"text-align: right;\">  0</td><td style=\"text-align: right;\">  0</td><td style=\"text-align: right;\">  0</td><td style=\"text-align: right;\">  0</td><td style=\"text-align: right;\">  0</td><td style=\"text-align: right;\">  0</td><td style=\"text-align: right;\">  0</td><td style=\"text-align: right;\">  0</td><td style=\"text-align: right;\">  0</td><td style=\"text-align: right;\">  0</td><td style=\"text-align: right;\">  0</td><td style=\"text-align: right;\">  0</td><td style=\"text-align: right;\">  0</td><td style=\"text-align: right;\">  0</td></tr>\n",
       "<tr><td><b>G</b></td><td style=\"text-align: right;\">  0</td><td style=\"text-align: right;\">  0</td><td style=\"text-align: right;\">  0</td><td style=\"text-align: right;\">  0</td><td style=\"text-align: right;\">  0</td><td style=\"text-align: right;\">  0</td><td style=\"text-align: right;\">  0</td><td style=\"text-align: right;\">  0</td><td style=\"text-align: right;\">  0</td><td style=\"text-align: right;\">  0</td><td style=\"text-align: right;\">  0</td><td style=\"text-align: right;\">  0</td><td style=\"text-align: right;\">  0</td><td style=\"text-align: right;\">  0</td><td style=\"text-align: right;\">  0</td><td style=\"text-align: right;\">  0</td><td style=\"text-align: right;\">  0</td><td style=\"text-align: right;\">  0</td><td style=\"text-align: right;\">  0</td><td style=\"text-align: right;\">  0</td><td style=\"text-align: right;\">  0</td><td style=\"text-align: right;\">  0</td><td style=\"text-align: right;\">  0</td><td style=\"text-align: right;\">  0</td></tr>\n",
       "<tr><td><b>G</b></td><td style=\"text-align: right;\">  0</td><td style=\"text-align: right;\">  0</td><td style=\"text-align: right;\">  0</td><td style=\"text-align: right;\">  0</td><td style=\"text-align: right;\">  0</td><td style=\"text-align: right;\">  0</td><td style=\"text-align: right;\">  0</td><td style=\"text-align: right;\">  0</td><td style=\"text-align: right;\">  0</td><td style=\"text-align: right;\">  0</td><td style=\"text-align: right;\">  0</td><td style=\"text-align: right;\">  0</td><td style=\"text-align: right;\">  0</td><td style=\"text-align: right;\">  0</td><td style=\"text-align: right;\">  0</td><td style=\"text-align: right;\">  0</td><td style=\"text-align: right;\">  0</td><td style=\"text-align: right;\">  0</td><td style=\"text-align: right;\">  0</td><td style=\"text-align: right;\">  0</td><td style=\"text-align: right;\">  0</td><td style=\"text-align: right;\">  0</td><td style=\"text-align: right;\">  0</td><td style=\"text-align: right;\">  0</td></tr>\n",
       "<tr><td><b>T</b></td><td style=\"text-align: right;\">  0</td><td style=\"text-align: right;\">  0</td><td style=\"text-align: right;\">  0</td><td style=\"text-align: right;\">  0</td><td style=\"text-align: right;\">  0</td><td style=\"text-align: right;\">  0</td><td style=\"text-align: right;\">  0</td><td style=\"text-align: right;\">  0</td><td style=\"text-align: right;\">  0</td><td style=\"text-align: right;\">  0</td><td style=\"text-align: right;\">  0</td><td style=\"text-align: right;\">  0</td><td style=\"text-align: right;\">  0</td><td style=\"text-align: right;\">  0</td><td style=\"text-align: right;\">  0</td><td style=\"text-align: right;\">  0</td><td style=\"text-align: right;\">  0</td><td style=\"text-align: right;\">  0</td><td style=\"text-align: right;\">  0</td><td style=\"text-align: right;\">  0</td><td style=\"text-align: right;\">  0</td><td style=\"text-align: right;\">  0</td><td style=\"text-align: right;\">  0</td><td style=\"text-align: right;\">  0</td></tr>\n",
       "<tr><td><b>A</b></td><td style=\"text-align: right;\">  0</td><td style=\"text-align: right;\">  0</td><td style=\"text-align: right;\">  0</td><td style=\"text-align: right;\">  0</td><td style=\"text-align: right;\">  0</td><td style=\"text-align: right;\">  0</td><td style=\"text-align: right;\">  0</td><td style=\"text-align: right;\">  0</td><td style=\"text-align: right;\">  0</td><td style=\"text-align: right;\">  0</td><td style=\"text-align: right;\">  0</td><td style=\"text-align: right;\">  0</td><td style=\"text-align: right;\">  0</td><td style=\"text-align: right;\">  0</td><td style=\"text-align: right;\">  0</td><td style=\"text-align: right;\">  0</td><td style=\"text-align: right;\">  0</td><td style=\"text-align: right;\">  0</td><td style=\"text-align: right;\">  0</td><td style=\"text-align: right;\">  0</td><td style=\"text-align: right;\">  0</td><td style=\"text-align: right;\">  0</td><td style=\"text-align: right;\">  0</td><td style=\"text-align: right;\">  0</td></tr>\n",
       "<tr><td><b>A</b></td><td style=\"text-align: right;\">  0</td><td style=\"text-align: right;\">  0</td><td style=\"text-align: right;\">  0</td><td style=\"text-align: right;\">  0</td><td style=\"text-align: right;\">  0</td><td style=\"text-align: right;\">  0</td><td style=\"text-align: right;\">  0</td><td style=\"text-align: right;\">  0</td><td style=\"text-align: right;\">  0</td><td style=\"text-align: right;\">  0</td><td style=\"text-align: right;\">  0</td><td style=\"text-align: right;\">  0</td><td style=\"text-align: right;\">  0</td><td style=\"text-align: right;\">  0</td><td style=\"text-align: right;\">  0</td><td style=\"text-align: right;\">  0</td><td style=\"text-align: right;\">  0</td><td style=\"text-align: right;\">  0</td><td style=\"text-align: right;\">  0</td><td style=\"text-align: right;\">  0</td><td style=\"text-align: right;\">  0</td><td style=\"text-align: right;\">  0</td><td style=\"text-align: right;\">  0</td><td style=\"text-align: right;\">  0</td></tr>\n",
       "<tr><td><b>C</b></td><td style=\"text-align: right;\">  0</td><td style=\"text-align: right;\">  0</td><td style=\"text-align: right;\">  0</td><td style=\"text-align: right;\">  0</td><td style=\"text-align: right;\">  0</td><td style=\"text-align: right;\">  0</td><td style=\"text-align: right;\">  0</td><td style=\"text-align: right;\">  0</td><td style=\"text-align: right;\">  0</td><td style=\"text-align: right;\">  0</td><td style=\"text-align: right;\">  0</td><td style=\"text-align: right;\">  0</td><td style=\"text-align: right;\">  0</td><td style=\"text-align: right;\">  0</td><td style=\"text-align: right;\">  0</td><td style=\"text-align: right;\">  0</td><td style=\"text-align: right;\">  0</td><td style=\"text-align: right;\">  0</td><td style=\"text-align: right;\">  0</td><td style=\"text-align: right;\">  0</td><td style=\"text-align: right;\">  0</td><td style=\"text-align: right;\">  0</td><td style=\"text-align: right;\">  0</td><td style=\"text-align: right;\">  0</td></tr>\n",
       "<tr><td><b>C</b></td><td style=\"text-align: right;\">  0</td><td style=\"text-align: right;\">  0</td><td style=\"text-align: right;\">  0</td><td style=\"text-align: right;\">  0</td><td style=\"text-align: right;\">  0</td><td style=\"text-align: right;\">  0</td><td style=\"text-align: right;\">  0</td><td style=\"text-align: right;\">  0</td><td style=\"text-align: right;\">  0</td><td style=\"text-align: right;\">  0</td><td style=\"text-align: right;\">  0</td><td style=\"text-align: right;\">  0</td><td style=\"text-align: right;\">  0</td><td style=\"text-align: right;\">  0</td><td style=\"text-align: right;\">  0</td><td style=\"text-align: right;\">  0</td><td style=\"text-align: right;\">  0</td><td style=\"text-align: right;\">  0</td><td style=\"text-align: right;\">  0</td><td style=\"text-align: right;\">  0</td><td style=\"text-align: right;\">  0</td><td style=\"text-align: right;\">  0</td><td style=\"text-align: right;\">  0</td><td style=\"text-align: right;\">  0</td></tr>\n",
       "<tr><td><b>G</b></td><td style=\"text-align: right;\">  0</td><td style=\"text-align: right;\">  0</td><td style=\"text-align: right;\">  0</td><td style=\"text-align: right;\">  0</td><td style=\"text-align: right;\">  0</td><td style=\"text-align: right;\">  0</td><td style=\"text-align: right;\">  0</td><td style=\"text-align: right;\">  0</td><td style=\"text-align: right;\">  0</td><td style=\"text-align: right;\">  0</td><td style=\"text-align: right;\">  0</td><td style=\"text-align: right;\">  0</td><td style=\"text-align: right;\">  0</td><td style=\"text-align: right;\">  0</td><td style=\"text-align: right;\">  0</td><td style=\"text-align: right;\">  0</td><td style=\"text-align: right;\">  0</td><td style=\"text-align: right;\">  0</td><td style=\"text-align: right;\">  0</td><td style=\"text-align: right;\">  0</td><td style=\"text-align: right;\">  0</td><td style=\"text-align: right;\">  0</td><td style=\"text-align: right;\">  0</td><td style=\"text-align: right;\">  0</td></tr>\n",
       "<tr><td><b>G</b></td><td style=\"text-align: right;\">  0</td><td style=\"text-align: right;\">  0</td><td style=\"text-align: right;\">  0</td><td style=\"text-align: right;\">  0</td><td style=\"text-align: right;\">  0</td><td style=\"text-align: right;\">  0</td><td style=\"text-align: right;\">  0</td><td style=\"text-align: right;\">  0</td><td style=\"text-align: right;\">  0</td><td style=\"text-align: right;\">  0</td><td style=\"text-align: right;\">  0</td><td style=\"text-align: right;\">  0</td><td style=\"text-align: right;\">  0</td><td style=\"text-align: right;\">  0</td><td style=\"text-align: right;\">  0</td><td style=\"text-align: right;\">  0</td><td style=\"text-align: right;\">  0</td><td style=\"text-align: right;\">  0</td><td style=\"text-align: right;\">  0</td><td style=\"text-align: right;\">  0</td><td style=\"text-align: right;\">  0</td><td style=\"text-align: right;\">  0</td><td style=\"text-align: right;\">  0</td><td style=\"text-align: right;\">  0</td></tr>\n",
       "<tr><td><b>T</b></td><td style=\"text-align: right;\">  0</td><td style=\"text-align: right;\">  0</td><td style=\"text-align: right;\">  0</td><td style=\"text-align: right;\">  0</td><td style=\"text-align: right;\">  0</td><td style=\"text-align: right;\">  0</td><td style=\"text-align: right;\">  0</td><td style=\"text-align: right;\">  0</td><td style=\"text-align: right;\">  0</td><td style=\"text-align: right;\">  0</td><td style=\"text-align: right;\">  0</td><td style=\"text-align: right;\">  0</td><td style=\"text-align: right;\">  0</td><td style=\"text-align: right;\">  0</td><td style=\"text-align: right;\">  0</td><td style=\"text-align: right;\">  0</td><td style=\"text-align: right;\">  0</td><td style=\"text-align: right;\">  0</td><td style=\"text-align: right;\">  0</td><td style=\"text-align: right;\">  0</td><td style=\"text-align: right;\">  0</td><td style=\"text-align: right;\">  0</td><td style=\"text-align: right;\">  0</td><td style=\"text-align: right;\">  0</td></tr>\n",
       "<tr><td><b>T</b></td><td style=\"text-align: right;\">  0</td><td style=\"text-align: right;\">  0</td><td style=\"text-align: right;\">  0</td><td style=\"text-align: right;\">  0</td><td style=\"text-align: right;\">  0</td><td style=\"text-align: right;\">  0</td><td style=\"text-align: right;\">  0</td><td style=\"text-align: right;\">  0</td><td style=\"text-align: right;\">  0</td><td style=\"text-align: right;\">  0</td><td style=\"text-align: right;\">  0</td><td style=\"text-align: right;\">  0</td><td style=\"text-align: right;\">  0</td><td style=\"text-align: right;\">  0</td><td style=\"text-align: right;\">  0</td><td style=\"text-align: right;\">  0</td><td style=\"text-align: right;\">  0</td><td style=\"text-align: right;\">  0</td><td style=\"text-align: right;\">  0</td><td style=\"text-align: right;\">  0</td><td style=\"text-align: right;\">  0</td><td style=\"text-align: right;\">  0</td><td style=\"text-align: right;\">  0</td><td style=\"text-align: right;\">  0</td></tr>\n",
       "<tr><td><b>A</b></td><td style=\"text-align: right;\">  0</td><td style=\"text-align: right;\">  0</td><td style=\"text-align: right;\">  0</td><td style=\"text-align: right;\">  0</td><td style=\"text-align: right;\">  0</td><td style=\"text-align: right;\">  0</td><td style=\"text-align: right;\">  0</td><td style=\"text-align: right;\">  0</td><td style=\"text-align: right;\">  0</td><td style=\"text-align: right;\">  0</td><td style=\"text-align: right;\">  0</td><td style=\"text-align: right;\">  0</td><td style=\"text-align: right;\">  0</td><td style=\"text-align: right;\">  0</td><td style=\"text-align: right;\">  0</td><td style=\"text-align: right;\">  0</td><td style=\"text-align: right;\">  0</td><td style=\"text-align: right;\">  0</td><td style=\"text-align: right;\">  0</td><td style=\"text-align: right;\">  0</td><td style=\"text-align: right;\">  0</td><td style=\"text-align: right;\">  0</td><td style=\"text-align: right;\">  0</td><td style=\"text-align: right;\">  0</td></tr>\n",
       "<tr><td><b>A</b></td><td style=\"text-align: right;\">  0</td><td style=\"text-align: right;\">  0</td><td style=\"text-align: right;\">  0</td><td style=\"text-align: right;\">  0</td><td style=\"text-align: right;\">  0</td><td style=\"text-align: right;\">  0</td><td style=\"text-align: right;\">  0</td><td style=\"text-align: right;\">  0</td><td style=\"text-align: right;\">  0</td><td style=\"text-align: right;\">  0</td><td style=\"text-align: right;\">  0</td><td style=\"text-align: right;\">  0</td><td style=\"text-align: right;\">  0</td><td style=\"text-align: right;\">  0</td><td style=\"text-align: right;\">  0</td><td style=\"text-align: right;\">  0</td><td style=\"text-align: right;\">  0</td><td style=\"text-align: right;\">  0</td><td style=\"text-align: right;\">  0</td><td style=\"text-align: right;\">  0</td><td style=\"text-align: right;\">  0</td><td style=\"text-align: right;\">  0</td><td style=\"text-align: right;\">  0</td><td style=\"text-align: right;\">  0</td></tr>\n",
       "<tr><td><b>C</b></td><td style=\"text-align: right;\">  0</td><td style=\"text-align: right;\">  0</td><td style=\"text-align: right;\">  0</td><td style=\"text-align: right;\">  0</td><td style=\"text-align: right;\">  0</td><td style=\"text-align: right;\">  0</td><td style=\"text-align: right;\">  0</td><td style=\"text-align: right;\">  0</td><td style=\"text-align: right;\">  0</td><td style=\"text-align: right;\">  0</td><td style=\"text-align: right;\">  0</td><td style=\"text-align: right;\">  0</td><td style=\"text-align: right;\">  0</td><td style=\"text-align: right;\">  0</td><td style=\"text-align: right;\">  0</td><td style=\"text-align: right;\">  0</td><td style=\"text-align: right;\">  0</td><td style=\"text-align: right;\">  0</td><td style=\"text-align: right;\">  0</td><td style=\"text-align: right;\">  0</td><td style=\"text-align: right;\">  0</td><td style=\"text-align: right;\">  0</td><td style=\"text-align: right;\">  0</td><td style=\"text-align: right;\">  0</td></tr>\n",
       "<tr><td><b>A</b></td><td style=\"text-align: right;\">  0</td><td style=\"text-align: right;\">  0</td><td style=\"text-align: right;\">  0</td><td style=\"text-align: right;\">  0</td><td style=\"text-align: right;\">  0</td><td style=\"text-align: right;\">  0</td><td style=\"text-align: right;\">  0</td><td style=\"text-align: right;\">  0</td><td style=\"text-align: right;\">  0</td><td style=\"text-align: right;\">  0</td><td style=\"text-align: right;\">  0</td><td style=\"text-align: right;\">  0</td><td style=\"text-align: right;\">  0</td><td style=\"text-align: right;\">  0</td><td style=\"text-align: right;\">  0</td><td style=\"text-align: right;\">  0</td><td style=\"text-align: right;\">  0</td><td style=\"text-align: right;\">  0</td><td style=\"text-align: right;\">  0</td><td style=\"text-align: right;\">  0</td><td style=\"text-align: right;\">  0</td><td style=\"text-align: right;\">  0</td><td style=\"text-align: right;\">  0</td><td style=\"text-align: right;\">  0</td></tr>\n",
       "<tr><td><b>C</b></td><td style=\"text-align: right;\">  0</td><td style=\"text-align: right;\">  0</td><td style=\"text-align: right;\">  0</td><td style=\"text-align: right;\">  0</td><td style=\"text-align: right;\">  0</td><td style=\"text-align: right;\">  0</td><td style=\"text-align: right;\">  0</td><td style=\"text-align: right;\">  0</td><td style=\"text-align: right;\">  0</td><td style=\"text-align: right;\">  0</td><td style=\"text-align: right;\">  0</td><td style=\"text-align: right;\">  0</td><td style=\"text-align: right;\">  0</td><td style=\"text-align: right;\">  0</td><td style=\"text-align: right;\">  0</td><td style=\"text-align: right;\">  0</td><td style=\"text-align: right;\">  0</td><td style=\"text-align: right;\">  0</td><td style=\"text-align: right;\">  0</td><td style=\"text-align: right;\">  0</td><td style=\"text-align: right;\">  0</td><td style=\"text-align: right;\">  0</td><td style=\"text-align: right;\">  0</td><td style=\"text-align: right;\">  0</td></tr>\n",
       "<tr><td><b>C</b></td><td style=\"text-align: right;\">  0</td><td style=\"text-align: right;\">  0</td><td style=\"text-align: right;\">  0</td><td style=\"text-align: right;\">  0</td><td style=\"text-align: right;\">  0</td><td style=\"text-align: right;\">  0</td><td style=\"text-align: right;\">  0</td><td style=\"text-align: right;\">  0</td><td style=\"text-align: right;\">  0</td><td style=\"text-align: right;\">  0</td><td style=\"text-align: right;\">  0</td><td style=\"text-align: right;\">  0</td><td style=\"text-align: right;\">  0</td><td style=\"text-align: right;\">  0</td><td style=\"text-align: right;\">  0</td><td style=\"text-align: right;\">  0</td><td style=\"text-align: right;\">  0</td><td style=\"text-align: right;\">  0</td><td style=\"text-align: right;\">  0</td><td style=\"text-align: right;\">  0</td><td style=\"text-align: right;\">  0</td><td style=\"text-align: right;\">  0</td><td style=\"text-align: right;\">  0</td><td style=\"text-align: right;\">  0</td></tr>\n",
       "<tr><td><b>C</b></td><td style=\"text-align: right;\">  0</td><td style=\"text-align: right;\">  0</td><td style=\"text-align: right;\">  0</td><td style=\"text-align: right;\">  0</td><td style=\"text-align: right;\">  0</td><td style=\"text-align: right;\">  0</td><td style=\"text-align: right;\">  0</td><td style=\"text-align: right;\">  0</td><td style=\"text-align: right;\">  0</td><td style=\"text-align: right;\">  0</td><td style=\"text-align: right;\">  0</td><td style=\"text-align: right;\">  0</td><td style=\"text-align: right;\">  0</td><td style=\"text-align: right;\">  0</td><td style=\"text-align: right;\">  0</td><td style=\"text-align: right;\">  0</td><td style=\"text-align: right;\">  0</td><td style=\"text-align: right;\">  0</td><td style=\"text-align: right;\">  0</td><td style=\"text-align: right;\">  0</td><td style=\"text-align: right;\">  0</td><td style=\"text-align: right;\">  0</td><td style=\"text-align: right;\">  0</td><td style=\"text-align: right;\">  0</td></tr>\n",
       "<tr><td><b>A</b></td><td style=\"text-align: right;\">  0</td><td style=\"text-align: right;\">  0</td><td style=\"text-align: right;\">  0</td><td style=\"text-align: right;\">  0</td><td style=\"text-align: right;\">  0</td><td style=\"text-align: right;\">  0</td><td style=\"text-align: right;\">  0</td><td style=\"text-align: right;\">  0</td><td style=\"text-align: right;\">  0</td><td style=\"text-align: right;\">  0</td><td style=\"text-align: right;\">  0</td><td style=\"text-align: right;\">  0</td><td style=\"text-align: right;\">  0</td><td style=\"text-align: right;\">  0</td><td style=\"text-align: right;\">  0</td><td style=\"text-align: right;\">  0</td><td style=\"text-align: right;\">  0</td><td style=\"text-align: right;\">  0</td><td style=\"text-align: right;\">  0</td><td style=\"text-align: right;\">  0</td><td style=\"text-align: right;\">  0</td><td style=\"text-align: right;\">  0</td><td style=\"text-align: right;\">  0</td><td style=\"text-align: right;\">  0</td></tr>\n",
       "<tr><td><b>C</b></td><td style=\"text-align: right;\">  0</td><td style=\"text-align: right;\">  0</td><td style=\"text-align: right;\">  0</td><td style=\"text-align: right;\">  0</td><td style=\"text-align: right;\">  0</td><td style=\"text-align: right;\">  0</td><td style=\"text-align: right;\">  0</td><td style=\"text-align: right;\">  0</td><td style=\"text-align: right;\">  0</td><td style=\"text-align: right;\">  0</td><td style=\"text-align: right;\">  0</td><td style=\"text-align: right;\">  0</td><td style=\"text-align: right;\">  0</td><td style=\"text-align: right;\">  0</td><td style=\"text-align: right;\">  0</td><td style=\"text-align: right;\">  0</td><td style=\"text-align: right;\">  0</td><td style=\"text-align: right;\">  0</td><td style=\"text-align: right;\">  0</td><td style=\"text-align: right;\">  0</td><td style=\"text-align: right;\">  0</td><td style=\"text-align: right;\">  0</td><td style=\"text-align: right;\">  0</td><td style=\"text-align: right;\">  0</td></tr>\n",
       "</tbody>\n",
       "</table>"
      ],
      "text/plain": [
       "<table>\n",
       "<thead>\n",
       "<tr><th>        </th><th style=\"text-align: right;\">  A</th><th style=\"text-align: right;\">  C</th><th style=\"text-align: right;\">  C</th><th style=\"text-align: right;\">  G</th><th style=\"text-align: right;\">  G</th><th style=\"text-align: right;\">  T</th><th style=\"text-align: right;\">  G</th><th style=\"text-align: right;\">  G</th><th style=\"text-align: right;\">  A</th><th style=\"text-align: right;\">  A</th><th style=\"text-align: right;\">  C</th><th style=\"text-align: right;\">  C</th><th style=\"text-align: right;\">  G</th><th style=\"text-align: right;\">  G</th><th style=\"text-align: right;\">  T</th><th style=\"text-align: right;\">  A</th><th style=\"text-align: right;\">  A</th><th style=\"text-align: right;\">  C</th><th style=\"text-align: right;\">  A</th><th style=\"text-align: right;\">  C</th><th style=\"text-align: right;\">  C</th><th style=\"text-align: right;\">  C</th><th style=\"text-align: right;\">  A</th><th style=\"text-align: right;\">  C</th></tr>\n",
       "</thead>\n",
       "<tbody>\n",
       "<tr><td><b>A</b></td><td style=\"text-align: right;\">  0</td><td style=\"text-align: right;\">  0</td><td style=\"text-align: right;\">  0</td><td style=\"text-align: right;\">  0</td><td style=\"text-align: right;\">  0</td><td style=\"text-align: right;\">  0</td><td style=\"text-align: right;\">  0</td><td style=\"text-align: right;\">  0</td><td style=\"text-align: right;\">  0</td><td style=\"text-align: right;\">  0</td><td style=\"text-align: right;\">  0</td><td style=\"text-align: right;\">  0</td><td style=\"text-align: right;\">  0</td><td style=\"text-align: right;\">  0</td><td style=\"text-align: right;\">  0</td><td style=\"text-align: right;\">  0</td><td style=\"text-align: right;\">  0</td><td style=\"text-align: right;\">  0</td><td style=\"text-align: right;\">  0</td><td style=\"text-align: right;\">  0</td><td style=\"text-align: right;\">  0</td><td style=\"text-align: right;\">  0</td><td style=\"text-align: right;\">  0</td><td style=\"text-align: right;\">  0</td></tr>\n",
       "<tr><td><b>C</b></td><td style=\"text-align: right;\">  0</td><td style=\"text-align: right;\">  0</td><td style=\"text-align: right;\">  0</td><td style=\"text-align: right;\">  0</td><td style=\"text-align: right;\">  0</td><td style=\"text-align: right;\">  0</td><td style=\"text-align: right;\">  0</td><td style=\"text-align: right;\">  0</td><td style=\"text-align: right;\">  0</td><td style=\"text-align: right;\">  0</td><td style=\"text-align: right;\">  0</td><td style=\"text-align: right;\">  0</td><td style=\"text-align: right;\">  0</td><td style=\"text-align: right;\">  0</td><td style=\"text-align: right;\">  0</td><td style=\"text-align: right;\">  0</td><td style=\"text-align: right;\">  0</td><td style=\"text-align: right;\">  0</td><td style=\"text-align: right;\">  0</td><td style=\"text-align: right;\">  0</td><td style=\"text-align: right;\">  0</td><td style=\"text-align: right;\">  0</td><td style=\"text-align: right;\">  0</td><td style=\"text-align: right;\">  0</td></tr>\n",
       "<tr><td><b>C</b></td><td style=\"text-align: right;\">  0</td><td style=\"text-align: right;\">  0</td><td style=\"text-align: right;\">  0</td><td style=\"text-align: right;\">  0</td><td style=\"text-align: right;\">  0</td><td style=\"text-align: right;\">  0</td><td style=\"text-align: right;\">  0</td><td style=\"text-align: right;\">  0</td><td style=\"text-align: right;\">  0</td><td style=\"text-align: right;\">  0</td><td style=\"text-align: right;\">  0</td><td style=\"text-align: right;\">  0</td><td style=\"text-align: right;\">  0</td><td style=\"text-align: right;\">  0</td><td style=\"text-align: right;\">  0</td><td style=\"text-align: right;\">  0</td><td style=\"text-align: right;\">  0</td><td style=\"text-align: right;\">  0</td><td style=\"text-align: right;\">  0</td><td style=\"text-align: right;\">  0</td><td style=\"text-align: right;\">  0</td><td style=\"text-align: right;\">  0</td><td style=\"text-align: right;\">  0</td><td style=\"text-align: right;\">  0</td></tr>\n",
       "<tr><td><b>G</b></td><td style=\"text-align: right;\">  0</td><td style=\"text-align: right;\">  0</td><td style=\"text-align: right;\">  0</td><td style=\"text-align: right;\">  0</td><td style=\"text-align: right;\">  0</td><td style=\"text-align: right;\">  0</td><td style=\"text-align: right;\">  0</td><td style=\"text-align: right;\">  0</td><td style=\"text-align: right;\">  0</td><td style=\"text-align: right;\">  0</td><td style=\"text-align: right;\">  0</td><td style=\"text-align: right;\">  0</td><td style=\"text-align: right;\">  0</td><td style=\"text-align: right;\">  0</td><td style=\"text-align: right;\">  0</td><td style=\"text-align: right;\">  0</td><td style=\"text-align: right;\">  0</td><td style=\"text-align: right;\">  0</td><td style=\"text-align: right;\">  0</td><td style=\"text-align: right;\">  0</td><td style=\"text-align: right;\">  0</td><td style=\"text-align: right;\">  0</td><td style=\"text-align: right;\">  0</td><td style=\"text-align: right;\">  0</td></tr>\n",
       "<tr><td><b>G</b></td><td style=\"text-align: right;\">  0</td><td style=\"text-align: right;\">  0</td><td style=\"text-align: right;\">  0</td><td style=\"text-align: right;\">  0</td><td style=\"text-align: right;\">  0</td><td style=\"text-align: right;\">  0</td><td style=\"text-align: right;\">  0</td><td style=\"text-align: right;\">  0</td><td style=\"text-align: right;\">  0</td><td style=\"text-align: right;\">  0</td><td style=\"text-align: right;\">  0</td><td style=\"text-align: right;\">  0</td><td style=\"text-align: right;\">  0</td><td style=\"text-align: right;\">  0</td><td style=\"text-align: right;\">  0</td><td style=\"text-align: right;\">  0</td><td style=\"text-align: right;\">  0</td><td style=\"text-align: right;\">  0</td><td style=\"text-align: right;\">  0</td><td style=\"text-align: right;\">  0</td><td style=\"text-align: right;\">  0</td><td style=\"text-align: right;\">  0</td><td style=\"text-align: right;\">  0</td><td style=\"text-align: right;\">  0</td></tr>\n",
       "<tr><td><b>T</b></td><td style=\"text-align: right;\">  0</td><td style=\"text-align: right;\">  0</td><td style=\"text-align: right;\">  0</td><td style=\"text-align: right;\">  0</td><td style=\"text-align: right;\">  0</td><td style=\"text-align: right;\">  0</td><td style=\"text-align: right;\">  0</td><td style=\"text-align: right;\">  0</td><td style=\"text-align: right;\">  0</td><td style=\"text-align: right;\">  0</td><td style=\"text-align: right;\">  0</td><td style=\"text-align: right;\">  0</td><td style=\"text-align: right;\">  0</td><td style=\"text-align: right;\">  0</td><td style=\"text-align: right;\">  0</td><td style=\"text-align: right;\">  0</td><td style=\"text-align: right;\">  0</td><td style=\"text-align: right;\">  0</td><td style=\"text-align: right;\">  0</td><td style=\"text-align: right;\">  0</td><td style=\"text-align: right;\">  0</td><td style=\"text-align: right;\">  0</td><td style=\"text-align: right;\">  0</td><td style=\"text-align: right;\">  0</td></tr>\n",
       "<tr><td><b>A</b></td><td style=\"text-align: right;\">  0</td><td style=\"text-align: right;\">  0</td><td style=\"text-align: right;\">  0</td><td style=\"text-align: right;\">  0</td><td style=\"text-align: right;\">  0</td><td style=\"text-align: right;\">  0</td><td style=\"text-align: right;\">  0</td><td style=\"text-align: right;\">  0</td><td style=\"text-align: right;\">  0</td><td style=\"text-align: right;\">  0</td><td style=\"text-align: right;\">  0</td><td style=\"text-align: right;\">  0</td><td style=\"text-align: right;\">  0</td><td style=\"text-align: right;\">  0</td><td style=\"text-align: right;\">  0</td><td style=\"text-align: right;\">  0</td><td style=\"text-align: right;\">  0</td><td style=\"text-align: right;\">  0</td><td style=\"text-align: right;\">  0</td><td style=\"text-align: right;\">  0</td><td style=\"text-align: right;\">  0</td><td style=\"text-align: right;\">  0</td><td style=\"text-align: right;\">  0</td><td style=\"text-align: right;\">  0</td></tr>\n",
       "<tr><td><b>A</b></td><td style=\"text-align: right;\">  0</td><td style=\"text-align: right;\">  0</td><td style=\"text-align: right;\">  0</td><td style=\"text-align: right;\">  0</td><td style=\"text-align: right;\">  0</td><td style=\"text-align: right;\">  0</td><td style=\"text-align: right;\">  0</td><td style=\"text-align: right;\">  0</td><td style=\"text-align: right;\">  0</td><td style=\"text-align: right;\">  0</td><td style=\"text-align: right;\">  0</td><td style=\"text-align: right;\">  0</td><td style=\"text-align: right;\">  0</td><td style=\"text-align: right;\">  0</td><td style=\"text-align: right;\">  0</td><td style=\"text-align: right;\">  0</td><td style=\"text-align: right;\">  0</td><td style=\"text-align: right;\">  0</td><td style=\"text-align: right;\">  0</td><td style=\"text-align: right;\">  0</td><td style=\"text-align: right;\">  0</td><td style=\"text-align: right;\">  0</td><td style=\"text-align: right;\">  0</td><td style=\"text-align: right;\">  0</td></tr>\n",
       "<tr><td><b>C</b></td><td style=\"text-align: right;\">  0</td><td style=\"text-align: right;\">  0</td><td style=\"text-align: right;\">  0</td><td style=\"text-align: right;\">  0</td><td style=\"text-align: right;\">  0</td><td style=\"text-align: right;\">  0</td><td style=\"text-align: right;\">  0</td><td style=\"text-align: right;\">  0</td><td style=\"text-align: right;\">  0</td><td style=\"text-align: right;\">  0</td><td style=\"text-align: right;\">  0</td><td style=\"text-align: right;\">  0</td><td style=\"text-align: right;\">  0</td><td style=\"text-align: right;\">  0</td><td style=\"text-align: right;\">  0</td><td style=\"text-align: right;\">  0</td><td style=\"text-align: right;\">  0</td><td style=\"text-align: right;\">  0</td><td style=\"text-align: right;\">  0</td><td style=\"text-align: right;\">  0</td><td style=\"text-align: right;\">  0</td><td style=\"text-align: right;\">  0</td><td style=\"text-align: right;\">  0</td><td style=\"text-align: right;\">  0</td></tr>\n",
       "<tr><td><b>C</b></td><td style=\"text-align: right;\">  0</td><td style=\"text-align: right;\">  0</td><td style=\"text-align: right;\">  0</td><td style=\"text-align: right;\">  0</td><td style=\"text-align: right;\">  0</td><td style=\"text-align: right;\">  0</td><td style=\"text-align: right;\">  0</td><td style=\"text-align: right;\">  0</td><td style=\"text-align: right;\">  0</td><td style=\"text-align: right;\">  0</td><td style=\"text-align: right;\">  0</td><td style=\"text-align: right;\">  0</td><td style=\"text-align: right;\">  0</td><td style=\"text-align: right;\">  0</td><td style=\"text-align: right;\">  0</td><td style=\"text-align: right;\">  0</td><td style=\"text-align: right;\">  0</td><td style=\"text-align: right;\">  0</td><td style=\"text-align: right;\">  0</td><td style=\"text-align: right;\">  0</td><td style=\"text-align: right;\">  0</td><td style=\"text-align: right;\">  0</td><td style=\"text-align: right;\">  0</td><td style=\"text-align: right;\">  0</td></tr>\n",
       "<tr><td><b>G</b></td><td style=\"text-align: right;\">  0</td><td style=\"text-align: right;\">  0</td><td style=\"text-align: right;\">  0</td><td style=\"text-align: right;\">  0</td><td style=\"text-align: right;\">  0</td><td style=\"text-align: right;\">  0</td><td style=\"text-align: right;\">  0</td><td style=\"text-align: right;\">  0</td><td style=\"text-align: right;\">  0</td><td style=\"text-align: right;\">  0</td><td style=\"text-align: right;\">  0</td><td style=\"text-align: right;\">  0</td><td style=\"text-align: right;\">  0</td><td style=\"text-align: right;\">  0</td><td style=\"text-align: right;\">  0</td><td style=\"text-align: right;\">  0</td><td style=\"text-align: right;\">  0</td><td style=\"text-align: right;\">  0</td><td style=\"text-align: right;\">  0</td><td style=\"text-align: right;\">  0</td><td style=\"text-align: right;\">  0</td><td style=\"text-align: right;\">  0</td><td style=\"text-align: right;\">  0</td><td style=\"text-align: right;\">  0</td></tr>\n",
       "<tr><td><b>G</b></td><td style=\"text-align: right;\">  0</td><td style=\"text-align: right;\">  0</td><td style=\"text-align: right;\">  0</td><td style=\"text-align: right;\">  0</td><td style=\"text-align: right;\">  0</td><td style=\"text-align: right;\">  0</td><td style=\"text-align: right;\">  0</td><td style=\"text-align: right;\">  0</td><td style=\"text-align: right;\">  0</td><td style=\"text-align: right;\">  0</td><td style=\"text-align: right;\">  0</td><td style=\"text-align: right;\">  0</td><td style=\"text-align: right;\">  0</td><td style=\"text-align: right;\">  0</td><td style=\"text-align: right;\">  0</td><td style=\"text-align: right;\">  0</td><td style=\"text-align: right;\">  0</td><td style=\"text-align: right;\">  0</td><td style=\"text-align: right;\">  0</td><td style=\"text-align: right;\">  0</td><td style=\"text-align: right;\">  0</td><td style=\"text-align: right;\">  0</td><td style=\"text-align: right;\">  0</td><td style=\"text-align: right;\">  0</td></tr>\n",
       "<tr><td><b>T</b></td><td style=\"text-align: right;\">  0</td><td style=\"text-align: right;\">  0</td><td style=\"text-align: right;\">  0</td><td style=\"text-align: right;\">  0</td><td style=\"text-align: right;\">  0</td><td style=\"text-align: right;\">  0</td><td style=\"text-align: right;\">  0</td><td style=\"text-align: right;\">  0</td><td style=\"text-align: right;\">  0</td><td style=\"text-align: right;\">  0</td><td style=\"text-align: right;\">  0</td><td style=\"text-align: right;\">  0</td><td style=\"text-align: right;\">  0</td><td style=\"text-align: right;\">  0</td><td style=\"text-align: right;\">  0</td><td style=\"text-align: right;\">  0</td><td style=\"text-align: right;\">  0</td><td style=\"text-align: right;\">  0</td><td style=\"text-align: right;\">  0</td><td style=\"text-align: right;\">  0</td><td style=\"text-align: right;\">  0</td><td style=\"text-align: right;\">  0</td><td style=\"text-align: right;\">  0</td><td style=\"text-align: right;\">  0</td></tr>\n",
       "<tr><td><b>T</b></td><td style=\"text-align: right;\">  0</td><td style=\"text-align: right;\">  0</td><td style=\"text-align: right;\">  0</td><td style=\"text-align: right;\">  0</td><td style=\"text-align: right;\">  0</td><td style=\"text-align: right;\">  0</td><td style=\"text-align: right;\">  0</td><td style=\"text-align: right;\">  0</td><td style=\"text-align: right;\">  0</td><td style=\"text-align: right;\">  0</td><td style=\"text-align: right;\">  0</td><td style=\"text-align: right;\">  0</td><td style=\"text-align: right;\">  0</td><td style=\"text-align: right;\">  0</td><td style=\"text-align: right;\">  0</td><td style=\"text-align: right;\">  0</td><td style=\"text-align: right;\">  0</td><td style=\"text-align: right;\">  0</td><td style=\"text-align: right;\">  0</td><td style=\"text-align: right;\">  0</td><td style=\"text-align: right;\">  0</td><td style=\"text-align: right;\">  0</td><td style=\"text-align: right;\">  0</td><td style=\"text-align: right;\">  0</td></tr>\n",
       "<tr><td><b>A</b></td><td style=\"text-align: right;\">  0</td><td style=\"text-align: right;\">  0</td><td style=\"text-align: right;\">  0</td><td style=\"text-align: right;\">  0</td><td style=\"text-align: right;\">  0</td><td style=\"text-align: right;\">  0</td><td style=\"text-align: right;\">  0</td><td style=\"text-align: right;\">  0</td><td style=\"text-align: right;\">  0</td><td style=\"text-align: right;\">  0</td><td style=\"text-align: right;\">  0</td><td style=\"text-align: right;\">  0</td><td style=\"text-align: right;\">  0</td><td style=\"text-align: right;\">  0</td><td style=\"text-align: right;\">  0</td><td style=\"text-align: right;\">  0</td><td style=\"text-align: right;\">  0</td><td style=\"text-align: right;\">  0</td><td style=\"text-align: right;\">  0</td><td style=\"text-align: right;\">  0</td><td style=\"text-align: right;\">  0</td><td style=\"text-align: right;\">  0</td><td style=\"text-align: right;\">  0</td><td style=\"text-align: right;\">  0</td></tr>\n",
       "<tr><td><b>A</b></td><td style=\"text-align: right;\">  0</td><td style=\"text-align: right;\">  0</td><td style=\"text-align: right;\">  0</td><td style=\"text-align: right;\">  0</td><td style=\"text-align: right;\">  0</td><td style=\"text-align: right;\">  0</td><td style=\"text-align: right;\">  0</td><td style=\"text-align: right;\">  0</td><td style=\"text-align: right;\">  0</td><td style=\"text-align: right;\">  0</td><td style=\"text-align: right;\">  0</td><td style=\"text-align: right;\">  0</td><td style=\"text-align: right;\">  0</td><td style=\"text-align: right;\">  0</td><td style=\"text-align: right;\">  0</td><td style=\"text-align: right;\">  0</td><td style=\"text-align: right;\">  0</td><td style=\"text-align: right;\">  0</td><td style=\"text-align: right;\">  0</td><td style=\"text-align: right;\">  0</td><td style=\"text-align: right;\">  0</td><td style=\"text-align: right;\">  0</td><td style=\"text-align: right;\">  0</td><td style=\"text-align: right;\">  0</td></tr>\n",
       "<tr><td><b>C</b></td><td style=\"text-align: right;\">  0</td><td style=\"text-align: right;\">  0</td><td style=\"text-align: right;\">  0</td><td style=\"text-align: right;\">  0</td><td style=\"text-align: right;\">  0</td><td style=\"text-align: right;\">  0</td><td style=\"text-align: right;\">  0</td><td style=\"text-align: right;\">  0</td><td style=\"text-align: right;\">  0</td><td style=\"text-align: right;\">  0</td><td style=\"text-align: right;\">  0</td><td style=\"text-align: right;\">  0</td><td style=\"text-align: right;\">  0</td><td style=\"text-align: right;\">  0</td><td style=\"text-align: right;\">  0</td><td style=\"text-align: right;\">  0</td><td style=\"text-align: right;\">  0</td><td style=\"text-align: right;\">  0</td><td style=\"text-align: right;\">  0</td><td style=\"text-align: right;\">  0</td><td style=\"text-align: right;\">  0</td><td style=\"text-align: right;\">  0</td><td style=\"text-align: right;\">  0</td><td style=\"text-align: right;\">  0</td></tr>\n",
       "<tr><td><b>A</b></td><td style=\"text-align: right;\">  0</td><td style=\"text-align: right;\">  0</td><td style=\"text-align: right;\">  0</td><td style=\"text-align: right;\">  0</td><td style=\"text-align: right;\">  0</td><td style=\"text-align: right;\">  0</td><td style=\"text-align: right;\">  0</td><td style=\"text-align: right;\">  0</td><td style=\"text-align: right;\">  0</td><td style=\"text-align: right;\">  0</td><td style=\"text-align: right;\">  0</td><td style=\"text-align: right;\">  0</td><td style=\"text-align: right;\">  0</td><td style=\"text-align: right;\">  0</td><td style=\"text-align: right;\">  0</td><td style=\"text-align: right;\">  0</td><td style=\"text-align: right;\">  0</td><td style=\"text-align: right;\">  0</td><td style=\"text-align: right;\">  0</td><td style=\"text-align: right;\">  0</td><td style=\"text-align: right;\">  0</td><td style=\"text-align: right;\">  0</td><td style=\"text-align: right;\">  0</td><td style=\"text-align: right;\">  0</td></tr>\n",
       "<tr><td><b>C</b></td><td style=\"text-align: right;\">  0</td><td style=\"text-align: right;\">  0</td><td style=\"text-align: right;\">  0</td><td style=\"text-align: right;\">  0</td><td style=\"text-align: right;\">  0</td><td style=\"text-align: right;\">  0</td><td style=\"text-align: right;\">  0</td><td style=\"text-align: right;\">  0</td><td style=\"text-align: right;\">  0</td><td style=\"text-align: right;\">  0</td><td style=\"text-align: right;\">  0</td><td style=\"text-align: right;\">  0</td><td style=\"text-align: right;\">  0</td><td style=\"text-align: right;\">  0</td><td style=\"text-align: right;\">  0</td><td style=\"text-align: right;\">  0</td><td style=\"text-align: right;\">  0</td><td style=\"text-align: right;\">  0</td><td style=\"text-align: right;\">  0</td><td style=\"text-align: right;\">  0</td><td style=\"text-align: right;\">  0</td><td style=\"text-align: right;\">  0</td><td style=\"text-align: right;\">  0</td><td style=\"text-align: right;\">  0</td></tr>\n",
       "<tr><td><b>C</b></td><td style=\"text-align: right;\">  0</td><td style=\"text-align: right;\">  0</td><td style=\"text-align: right;\">  0</td><td style=\"text-align: right;\">  0</td><td style=\"text-align: right;\">  0</td><td style=\"text-align: right;\">  0</td><td style=\"text-align: right;\">  0</td><td style=\"text-align: right;\">  0</td><td style=\"text-align: right;\">  0</td><td style=\"text-align: right;\">  0</td><td style=\"text-align: right;\">  0</td><td style=\"text-align: right;\">  0</td><td style=\"text-align: right;\">  0</td><td style=\"text-align: right;\">  0</td><td style=\"text-align: right;\">  0</td><td style=\"text-align: right;\">  0</td><td style=\"text-align: right;\">  0</td><td style=\"text-align: right;\">  0</td><td style=\"text-align: right;\">  0</td><td style=\"text-align: right;\">  0</td><td style=\"text-align: right;\">  0</td><td style=\"text-align: right;\">  0</td><td style=\"text-align: right;\">  0</td><td style=\"text-align: right;\">  0</td></tr>\n",
       "<tr><td><b>C</b></td><td style=\"text-align: right;\">  0</td><td style=\"text-align: right;\">  0</td><td style=\"text-align: right;\">  0</td><td style=\"text-align: right;\">  0</td><td style=\"text-align: right;\">  0</td><td style=\"text-align: right;\">  0</td><td style=\"text-align: right;\">  0</td><td style=\"text-align: right;\">  0</td><td style=\"text-align: right;\">  0</td><td style=\"text-align: right;\">  0</td><td style=\"text-align: right;\">  0</td><td style=\"text-align: right;\">  0</td><td style=\"text-align: right;\">  0</td><td style=\"text-align: right;\">  0</td><td style=\"text-align: right;\">  0</td><td style=\"text-align: right;\">  0</td><td style=\"text-align: right;\">  0</td><td style=\"text-align: right;\">  0</td><td style=\"text-align: right;\">  0</td><td style=\"text-align: right;\">  0</td><td style=\"text-align: right;\">  0</td><td style=\"text-align: right;\">  0</td><td style=\"text-align: right;\">  0</td><td style=\"text-align: right;\">  0</td></tr>\n",
       "<tr><td><b>A</b></td><td style=\"text-align: right;\">  0</td><td style=\"text-align: right;\">  0</td><td style=\"text-align: right;\">  0</td><td style=\"text-align: right;\">  0</td><td style=\"text-align: right;\">  0</td><td style=\"text-align: right;\">  0</td><td style=\"text-align: right;\">  0</td><td style=\"text-align: right;\">  0</td><td style=\"text-align: right;\">  0</td><td style=\"text-align: right;\">  0</td><td style=\"text-align: right;\">  0</td><td style=\"text-align: right;\">  0</td><td style=\"text-align: right;\">  0</td><td style=\"text-align: right;\">  0</td><td style=\"text-align: right;\">  0</td><td style=\"text-align: right;\">  0</td><td style=\"text-align: right;\">  0</td><td style=\"text-align: right;\">  0</td><td style=\"text-align: right;\">  0</td><td style=\"text-align: right;\">  0</td><td style=\"text-align: right;\">  0</td><td style=\"text-align: right;\">  0</td><td style=\"text-align: right;\">  0</td><td style=\"text-align: right;\">  0</td></tr>\n",
       "<tr><td><b>C</b></td><td style=\"text-align: right;\">  0</td><td style=\"text-align: right;\">  0</td><td style=\"text-align: right;\">  0</td><td style=\"text-align: right;\">  0</td><td style=\"text-align: right;\">  0</td><td style=\"text-align: right;\">  0</td><td style=\"text-align: right;\">  0</td><td style=\"text-align: right;\">  0</td><td style=\"text-align: right;\">  0</td><td style=\"text-align: right;\">  0</td><td style=\"text-align: right;\">  0</td><td style=\"text-align: right;\">  0</td><td style=\"text-align: right;\">  0</td><td style=\"text-align: right;\">  0</td><td style=\"text-align: right;\">  0</td><td style=\"text-align: right;\">  0</td><td style=\"text-align: right;\">  0</td><td style=\"text-align: right;\">  0</td><td style=\"text-align: right;\">  0</td><td style=\"text-align: right;\">  0</td><td style=\"text-align: right;\">  0</td><td style=\"text-align: right;\">  0</td><td style=\"text-align: right;\">  0</td><td style=\"text-align: right;\">  0</td></tr>\n",
       "</tbody>\n",
       "</table>"
      ]
     },
     "execution_count": 17,
     "metadata": {},
     "output_type": "execute_result"
    }
   ],
   "source": [
    "num_rows = len(seq2)\n",
    "num_cols = len(seq1)\n",
    "data = np.zeros(shape=(num_rows, num_cols), dtype=np.int)\n",
    "\n",
    "HTML(show_F.show_F(seq1, seq2, data))"
   ]
  },
  {
   "cell_type": "code",
   "execution_count": 21,
   "metadata": {},
   "outputs": [
    {
     "name": "stdout",
     "output_type": "stream",
     "text": [
      "The longest diagonal is 10 characters long\n"
     ]
    },
    {
     "data": {
      "text/html": [
       "<table>\n",
       "<thead>\n",
       "<tr><th>        </th><th>A  </th><th>C  </th><th>C  </th><th>G  </th><th>G  </th><th>T  </th><th>G  </th><th>G  </th><th>A  </th><th>A  </th><th>C  </th><th>C  </th><th>G  </th><th>G  </th><th>T  </th><th>A  </th><th>A  </th><th>C  </th><th>A  </th><th>C  </th><th>C  </th><th>C  </th><th>A  </th><th>C  </th></tr>\n",
       "</thead>\n",
       "<tbody>\n",
       "<tr><td><b>A</b></td><td>1  </td><td>   </td><td>   </td><td>   </td><td>   </td><td>   </td><td>   </td><td>   </td><td>1  </td><td>1  </td><td>   </td><td>   </td><td>   </td><td>   </td><td>   </td><td>1  </td><td>1  </td><td>   </td><td>1  </td><td>   </td><td>   </td><td>   </td><td>1  </td><td>   </td></tr>\n",
       "<tr><td><b>C</b></td><td>   </td><td>2  </td><td>1  </td><td>   </td><td>   </td><td>   </td><td>   </td><td>   </td><td>   </td><td>   </td><td>2  </td><td>1  </td><td>   </td><td>   </td><td>   </td><td>   </td><td>   </td><td>2  </td><td>   </td><td>2  </td><td>1  </td><td>1  </td><td>   </td><td>2  </td></tr>\n",
       "<tr><td><b>C</b></td><td>   </td><td>1  </td><td>3  </td><td>   </td><td>   </td><td>   </td><td>   </td><td>   </td><td>   </td><td>   </td><td>1  </td><td>3  </td><td>   </td><td>   </td><td>   </td><td>   </td><td>   </td><td>1  </td><td>   </td><td>1  </td><td>3  </td><td>2  </td><td>   </td><td>1  </td></tr>\n",
       "<tr><td><b>G</b></td><td>   </td><td>   </td><td>   </td><td>4  </td><td>1  </td><td>   </td><td>1  </td><td>1  </td><td>   </td><td>   </td><td>   </td><td>   </td><td>4  </td><td>1  </td><td>   </td><td>   </td><td>   </td><td>   </td><td>   </td><td>   </td><td>   </td><td>   </td><td>   </td><td>   </td></tr>\n",
       "<tr><td><b>G</b></td><td>   </td><td>   </td><td>   </td><td>1  </td><td>5  </td><td>   </td><td>1  </td><td>2  </td><td>   </td><td>   </td><td>   </td><td>   </td><td>1  </td><td>5  </td><td>   </td><td>   </td><td>   </td><td>   </td><td>   </td><td>   </td><td>   </td><td>   </td><td>   </td><td>   </td></tr>\n",
       "<tr><td><b>T</b></td><td>   </td><td>   </td><td>   </td><td>   </td><td>   </td><td>6  </td><td>   </td><td>   </td><td>   </td><td>   </td><td>   </td><td>   </td><td>   </td><td>   </td><td>6  </td><td>   </td><td>   </td><td>   </td><td>   </td><td>   </td><td>   </td><td>   </td><td>   </td><td>   </td></tr>\n",
       "<tr><td><b>A</b></td><td>1  </td><td>   </td><td>   </td><td>   </td><td>   </td><td>   </td><td>   </td><td>   </td><td>1  </td><td>1  </td><td>   </td><td>   </td><td>   </td><td>   </td><td>   </td><td>7  </td><td>1  </td><td>   </td><td>1  </td><td>   </td><td>   </td><td>   </td><td>1  </td><td>   </td></tr>\n",
       "<tr><td><b>A</b></td><td>1  </td><td>   </td><td>   </td><td>   </td><td>   </td><td>   </td><td>   </td><td>   </td><td>1  </td><td>2  </td><td>   </td><td>   </td><td>   </td><td>   </td><td>   </td><td>1  </td><td>8  </td><td>   </td><td>1  </td><td>   </td><td>   </td><td>   </td><td>1  </td><td>   </td></tr>\n",
       "<tr><td><b>C</b></td><td>   </td><td>2  </td><td>1  </td><td>   </td><td>   </td><td>   </td><td>   </td><td>   </td><td>   </td><td>   </td><td>3  </td><td>1  </td><td>   </td><td>   </td><td>   </td><td>   </td><td>   </td><td>9  </td><td>   </td><td>2  </td><td>1  </td><td>1  </td><td>   </td><td>2  </td></tr>\n",
       "<tr><td><b>C</b></td><td>   </td><td>1  </td><td>3  </td><td>   </td><td>   </td><td>   </td><td>   </td><td>   </td><td>   </td><td>   </td><td>1  </td><td>4  </td><td>   </td><td>   </td><td>   </td><td>   </td><td>   </td><td>1  </td><td>   </td><td>1  </td><td>3  </td><td>2  </td><td>   </td><td>1  </td></tr>\n",
       "<tr><td><b>G</b></td><td>   </td><td>   </td><td>   </td><td>4  </td><td>1  </td><td>   </td><td>1  </td><td>1  </td><td>   </td><td>   </td><td>   </td><td>   </td><td>5  </td><td>1  </td><td>   </td><td>   </td><td>   </td><td>   </td><td>   </td><td>   </td><td>   </td><td>   </td><td>   </td><td>   </td></tr>\n",
       "<tr><td><b>G</b></td><td>   </td><td>   </td><td>   </td><td>1  </td><td>5  </td><td>   </td><td>1  </td><td>2  </td><td>   </td><td>   </td><td>   </td><td>   </td><td>1  </td><td>6  </td><td>   </td><td>   </td><td>   </td><td>   </td><td>   </td><td>   </td><td>   </td><td>   </td><td>   </td><td>   </td></tr>\n",
       "<tr><td><b>T</b></td><td>   </td><td>   </td><td>   </td><td>   </td><td>   </td><td>6  </td><td>   </td><td>   </td><td>   </td><td>   </td><td>   </td><td>   </td><td>   </td><td>   </td><td>7  </td><td>   </td><td>   </td><td>   </td><td>   </td><td>   </td><td>   </td><td>   </td><td>   </td><td>   </td></tr>\n",
       "<tr><td><b>T</b></td><td>   </td><td>   </td><td>   </td><td>   </td><td>   </td><td>1  </td><td>   </td><td>   </td><td>   </td><td>   </td><td>   </td><td>   </td><td>   </td><td>   </td><td>1  </td><td>   </td><td>   </td><td>   </td><td>   </td><td>   </td><td>   </td><td>   </td><td>   </td><td>   </td></tr>\n",
       "<tr><td><b>A</b></td><td>1  </td><td>   </td><td>   </td><td>   </td><td>   </td><td>   </td><td>   </td><td>   </td><td>1  </td><td>1  </td><td>   </td><td>   </td><td>   </td><td>   </td><td>   </td><td>2  </td><td>1  </td><td>   </td><td>1  </td><td>   </td><td>   </td><td>   </td><td>1  </td><td>   </td></tr>\n",
       "<tr><td><b>A</b></td><td>1  </td><td>   </td><td>   </td><td>   </td><td>   </td><td>   </td><td>   </td><td>   </td><td>1  </td><td>2  </td><td>   </td><td>   </td><td>   </td><td>   </td><td>   </td><td>1  </td><td>3  </td><td>   </td><td>1  </td><td>   </td><td>   </td><td>   </td><td>1  </td><td>   </td></tr>\n",
       "<tr><td><b>C</b></td><td>   </td><td>2  </td><td>1  </td><td>   </td><td>   </td><td>   </td><td>   </td><td>   </td><td>   </td><td>   </td><td>3  </td><td>1  </td><td>   </td><td>   </td><td>   </td><td>   </td><td>   </td><td>4  </td><td>   </td><td>2  </td><td>1  </td><td>1  </td><td>   </td><td>2  </td></tr>\n",
       "<tr><td><b>A</b></td><td>1  </td><td>   </td><td>   </td><td>   </td><td>   </td><td>   </td><td>   </td><td>   </td><td>1  </td><td>1  </td><td>   </td><td>   </td><td>   </td><td>   </td><td>   </td><td>1  </td><td>1  </td><td>   </td><td>5  </td><td>   </td><td>   </td><td>   </td><td>2  </td><td>   </td></tr>\n",
       "<tr><td><b>C</b></td><td>   </td><td>2  </td><td>1  </td><td>   </td><td>   </td><td>   </td><td>   </td><td>   </td><td>   </td><td>   </td><td>2  </td><td>1  </td><td>   </td><td>   </td><td>   </td><td>   </td><td>   </td><td>2  </td><td>   </td><td>6  </td><td>1  </td><td>1  </td><td>   </td><td>3  </td></tr>\n",
       "<tr><td><b>C</b></td><td>   </td><td>1  </td><td>3  </td><td>   </td><td>   </td><td>   </td><td>   </td><td>   </td><td>   </td><td>   </td><td>1  </td><td>3  </td><td>   </td><td>   </td><td>   </td><td>   </td><td>   </td><td>1  </td><td>   </td><td>1  </td><td>7  </td><td>2  </td><td>   </td><td>1  </td></tr>\n",
       "<tr><td><b>C</b></td><td>   </td><td>1  </td><td>2  </td><td>   </td><td>   </td><td>   </td><td>   </td><td>   </td><td>   </td><td>   </td><td>1  </td><td>2  </td><td>   </td><td>   </td><td>   </td><td>   </td><td>   </td><td>1  </td><td>   </td><td>1  </td><td>2  </td><td>8  </td><td>   </td><td>1  </td></tr>\n",
       "<tr><td><b>A</b></td><td>1  </td><td>   </td><td>   </td><td>   </td><td>   </td><td>   </td><td>   </td><td>   </td><td>1  </td><td>1  </td><td>   </td><td>   </td><td>   </td><td>   </td><td>   </td><td>1  </td><td>1  </td><td>   </td><td>2  </td><td>   </td><td>   </td><td>   </td><td>9  </td><td>   </td></tr>\n",
       "<tr><td><b>C</b></td><td>   </td><td>2  </td><td>1  </td><td>   </td><td>   </td><td>   </td><td>   </td><td>   </td><td>   </td><td>   </td><td>2  </td><td>1  </td><td>   </td><td>   </td><td>   </td><td>   </td><td>   </td><td>2  </td><td>   </td><td>3  </td><td>1  </td><td>1  </td><td>   </td><td>10 </td></tr>\n",
       "</tbody>\n",
       "</table>"
      ],
      "text/plain": [
       "<table>\n",
       "<thead>\n",
       "<tr><th>        </th><th>A  </th><th>C  </th><th>C  </th><th>G  </th><th>G  </th><th>T  </th><th>G  </th><th>G  </th><th>A  </th><th>A  </th><th>C  </th><th>C  </th><th>G  </th><th>G  </th><th>T  </th><th>A  </th><th>A  </th><th>C  </th><th>A  </th><th>C  </th><th>C  </th><th>C  </th><th>A  </th><th>C  </th></tr>\n",
       "</thead>\n",
       "<tbody>\n",
       "<tr><td><b>A</b></td><td>1  </td><td>   </td><td>   </td><td>   </td><td>   </td><td>   </td><td>   </td><td>   </td><td>1  </td><td>1  </td><td>   </td><td>   </td><td>   </td><td>   </td><td>   </td><td>1  </td><td>1  </td><td>   </td><td>1  </td><td>   </td><td>   </td><td>   </td><td>1  </td><td>   </td></tr>\n",
       "<tr><td><b>C</b></td><td>   </td><td>2  </td><td>1  </td><td>   </td><td>   </td><td>   </td><td>   </td><td>   </td><td>   </td><td>   </td><td>2  </td><td>1  </td><td>   </td><td>   </td><td>   </td><td>   </td><td>   </td><td>2  </td><td>   </td><td>2  </td><td>1  </td><td>1  </td><td>   </td><td>2  </td></tr>\n",
       "<tr><td><b>C</b></td><td>   </td><td>1  </td><td>3  </td><td>   </td><td>   </td><td>   </td><td>   </td><td>   </td><td>   </td><td>   </td><td>1  </td><td>3  </td><td>   </td><td>   </td><td>   </td><td>   </td><td>   </td><td>1  </td><td>   </td><td>1  </td><td>3  </td><td>2  </td><td>   </td><td>1  </td></tr>\n",
       "<tr><td><b>G</b></td><td>   </td><td>   </td><td>   </td><td>4  </td><td>1  </td><td>   </td><td>1  </td><td>1  </td><td>   </td><td>   </td><td>   </td><td>   </td><td>4  </td><td>1  </td><td>   </td><td>   </td><td>   </td><td>   </td><td>   </td><td>   </td><td>   </td><td>   </td><td>   </td><td>   </td></tr>\n",
       "<tr><td><b>G</b></td><td>   </td><td>   </td><td>   </td><td>1  </td><td>5  </td><td>   </td><td>1  </td><td>2  </td><td>   </td><td>   </td><td>   </td><td>   </td><td>1  </td><td>5  </td><td>   </td><td>   </td><td>   </td><td>   </td><td>   </td><td>   </td><td>   </td><td>   </td><td>   </td><td>   </td></tr>\n",
       "<tr><td><b>T</b></td><td>   </td><td>   </td><td>   </td><td>   </td><td>   </td><td>6  </td><td>   </td><td>   </td><td>   </td><td>   </td><td>   </td><td>   </td><td>   </td><td>   </td><td>6  </td><td>   </td><td>   </td><td>   </td><td>   </td><td>   </td><td>   </td><td>   </td><td>   </td><td>   </td></tr>\n",
       "<tr><td><b>A</b></td><td>1  </td><td>   </td><td>   </td><td>   </td><td>   </td><td>   </td><td>   </td><td>   </td><td>1  </td><td>1  </td><td>   </td><td>   </td><td>   </td><td>   </td><td>   </td><td>7  </td><td>1  </td><td>   </td><td>1  </td><td>   </td><td>   </td><td>   </td><td>1  </td><td>   </td></tr>\n",
       "<tr><td><b>A</b></td><td>1  </td><td>   </td><td>   </td><td>   </td><td>   </td><td>   </td><td>   </td><td>   </td><td>1  </td><td>2  </td><td>   </td><td>   </td><td>   </td><td>   </td><td>   </td><td>1  </td><td>8  </td><td>   </td><td>1  </td><td>   </td><td>   </td><td>   </td><td>1  </td><td>   </td></tr>\n",
       "<tr><td><b>C</b></td><td>   </td><td>2  </td><td>1  </td><td>   </td><td>   </td><td>   </td><td>   </td><td>   </td><td>   </td><td>   </td><td>3  </td><td>1  </td><td>   </td><td>   </td><td>   </td><td>   </td><td>   </td><td>9  </td><td>   </td><td>2  </td><td>1  </td><td>1  </td><td>   </td><td>2  </td></tr>\n",
       "<tr><td><b>C</b></td><td>   </td><td>1  </td><td>3  </td><td>   </td><td>   </td><td>   </td><td>   </td><td>   </td><td>   </td><td>   </td><td>1  </td><td>4  </td><td>   </td><td>   </td><td>   </td><td>   </td><td>   </td><td>1  </td><td>   </td><td>1  </td><td>3  </td><td>2  </td><td>   </td><td>1  </td></tr>\n",
       "<tr><td><b>G</b></td><td>   </td><td>   </td><td>   </td><td>4  </td><td>1  </td><td>   </td><td>1  </td><td>1  </td><td>   </td><td>   </td><td>   </td><td>   </td><td>5  </td><td>1  </td><td>   </td><td>   </td><td>   </td><td>   </td><td>   </td><td>   </td><td>   </td><td>   </td><td>   </td><td>   </td></tr>\n",
       "<tr><td><b>G</b></td><td>   </td><td>   </td><td>   </td><td>1  </td><td>5  </td><td>   </td><td>1  </td><td>2  </td><td>   </td><td>   </td><td>   </td><td>   </td><td>1  </td><td>6  </td><td>   </td><td>   </td><td>   </td><td>   </td><td>   </td><td>   </td><td>   </td><td>   </td><td>   </td><td>   </td></tr>\n",
       "<tr><td><b>T</b></td><td>   </td><td>   </td><td>   </td><td>   </td><td>   </td><td>6  </td><td>   </td><td>   </td><td>   </td><td>   </td><td>   </td><td>   </td><td>   </td><td>   </td><td>7  </td><td>   </td><td>   </td><td>   </td><td>   </td><td>   </td><td>   </td><td>   </td><td>   </td><td>   </td></tr>\n",
       "<tr><td><b>T</b></td><td>   </td><td>   </td><td>   </td><td>   </td><td>   </td><td>1  </td><td>   </td><td>   </td><td>   </td><td>   </td><td>   </td><td>   </td><td>   </td><td>   </td><td>1  </td><td>   </td><td>   </td><td>   </td><td>   </td><td>   </td><td>   </td><td>   </td><td>   </td><td>   </td></tr>\n",
       "<tr><td><b>A</b></td><td>1  </td><td>   </td><td>   </td><td>   </td><td>   </td><td>   </td><td>   </td><td>   </td><td>1  </td><td>1  </td><td>   </td><td>   </td><td>   </td><td>   </td><td>   </td><td>2  </td><td>1  </td><td>   </td><td>1  </td><td>   </td><td>   </td><td>   </td><td>1  </td><td>   </td></tr>\n",
       "<tr><td><b>A</b></td><td>1  </td><td>   </td><td>   </td><td>   </td><td>   </td><td>   </td><td>   </td><td>   </td><td>1  </td><td>2  </td><td>   </td><td>   </td><td>   </td><td>   </td><td>   </td><td>1  </td><td>3  </td><td>   </td><td>1  </td><td>   </td><td>   </td><td>   </td><td>1  </td><td>   </td></tr>\n",
       "<tr><td><b>C</b></td><td>   </td><td>2  </td><td>1  </td><td>   </td><td>   </td><td>   </td><td>   </td><td>   </td><td>   </td><td>   </td><td>3  </td><td>1  </td><td>   </td><td>   </td><td>   </td><td>   </td><td>   </td><td>4  </td><td>   </td><td>2  </td><td>1  </td><td>1  </td><td>   </td><td>2  </td></tr>\n",
       "<tr><td><b>A</b></td><td>1  </td><td>   </td><td>   </td><td>   </td><td>   </td><td>   </td><td>   </td><td>   </td><td>1  </td><td>1  </td><td>   </td><td>   </td><td>   </td><td>   </td><td>   </td><td>1  </td><td>1  </td><td>   </td><td>5  </td><td>   </td><td>   </td><td>   </td><td>2  </td><td>   </td></tr>\n",
       "<tr><td><b>C</b></td><td>   </td><td>2  </td><td>1  </td><td>   </td><td>   </td><td>   </td><td>   </td><td>   </td><td>   </td><td>   </td><td>2  </td><td>1  </td><td>   </td><td>   </td><td>   </td><td>   </td><td>   </td><td>2  </td><td>   </td><td>6  </td><td>1  </td><td>1  </td><td>   </td><td>3  </td></tr>\n",
       "<tr><td><b>C</b></td><td>   </td><td>1  </td><td>3  </td><td>   </td><td>   </td><td>   </td><td>   </td><td>   </td><td>   </td><td>   </td><td>1  </td><td>3  </td><td>   </td><td>   </td><td>   </td><td>   </td><td>   </td><td>1  </td><td>   </td><td>1  </td><td>7  </td><td>2  </td><td>   </td><td>1  </td></tr>\n",
       "<tr><td><b>C</b></td><td>   </td><td>1  </td><td>2  </td><td>   </td><td>   </td><td>   </td><td>   </td><td>   </td><td>   </td><td>   </td><td>1  </td><td>2  </td><td>   </td><td>   </td><td>   </td><td>   </td><td>   </td><td>1  </td><td>   </td><td>1  </td><td>2  </td><td>8  </td><td>   </td><td>1  </td></tr>\n",
       "<tr><td><b>A</b></td><td>1  </td><td>   </td><td>   </td><td>   </td><td>   </td><td>   </td><td>   </td><td>   </td><td>1  </td><td>1  </td><td>   </td><td>   </td><td>   </td><td>   </td><td>   </td><td>1  </td><td>1  </td><td>   </td><td>2  </td><td>   </td><td>   </td><td>   </td><td>9  </td><td>   </td></tr>\n",
       "<tr><td><b>C</b></td><td>   </td><td>2  </td><td>1  </td><td>   </td><td>   </td><td>   </td><td>   </td><td>   </td><td>   </td><td>   </td><td>2  </td><td>1  </td><td>   </td><td>   </td><td>   </td><td>   </td><td>   </td><td>2  </td><td>   </td><td>3  </td><td>1  </td><td>1  </td><td>   </td><td>10 </td></tr>\n",
       "</tbody>\n",
       "</table>"
      ]
     },
     "execution_count": 21,
     "metadata": {},
     "output_type": "execute_result"
    }
   ],
   "source": [
    "# creating a copy of our data matrix to work with, so we leave the original untouched\n",
    "summed_data = data.copy()\n",
    "# iterate over the cells in our data matrix, starting in the second row and the second column\n",
    "for i in range(1, summed_data.shape[0]):\n",
    "    for j in range(1, summed_data.shape[1]):\n",
    "        if summed_data[i,j] > 0:\n",
    "            summed_data[i, j] += summed_data[i - 1][j - 1]\n",
    "print(\"The longest diagonal is %d characters long\" % summed_data.max())\n",
    "HTML(show_F.show_F(seq1,seq2, summed_data, hide_zeros= True))"
   ]
  },
  {
   "cell_type": "code",
   "execution_count": 20,
   "metadata": {},
   "outputs": [
    {
     "data": {
      "text/html": [
       "<table>\n",
       "<thead>\n",
       "<tr><th>        </th><th>A  </th><th>C  </th><th>C  </th><th>G  </th><th>G  </th><th>T  </th><th>G  </th><th>G  </th><th>A  </th><th>A  </th><th>C  </th><th>C  </th><th>G  </th><th>G  </th><th>T  </th><th>A  </th><th>A  </th><th>C  </th><th>A  </th><th>C  </th><th>C  </th><th>C  </th><th>A  </th><th>C  </th></tr>\n",
       "</thead>\n",
       "<tbody>\n",
       "<tr><td><b>A</b></td><td>1  </td><td>   </td><td>   </td><td>   </td><td>   </td><td>   </td><td>   </td><td>   </td><td>1  </td><td>1  </td><td>   </td><td>   </td><td>   </td><td>   </td><td>   </td><td>1  </td><td>1  </td><td>   </td><td>1  </td><td>   </td><td>   </td><td>   </td><td>1  </td><td>   </td></tr>\n",
       "<tr><td><b>C</b></td><td>   </td><td>1  </td><td>1  </td><td>   </td><td>   </td><td>   </td><td>   </td><td>   </td><td>   </td><td>   </td><td>1  </td><td>1  </td><td>   </td><td>   </td><td>   </td><td>   </td><td>   </td><td>1  </td><td>   </td><td>1  </td><td>1  </td><td>1  </td><td>   </td><td>1  </td></tr>\n",
       "<tr><td><b>C</b></td><td>   </td><td>1  </td><td>1  </td><td>   </td><td>   </td><td>   </td><td>   </td><td>   </td><td>   </td><td>   </td><td>1  </td><td>1  </td><td>   </td><td>   </td><td>   </td><td>   </td><td>   </td><td>1  </td><td>   </td><td>1  </td><td>1  </td><td>1  </td><td>   </td><td>1  </td></tr>\n",
       "<tr><td><b>G</b></td><td>   </td><td>   </td><td>   </td><td>1  </td><td>1  </td><td>   </td><td>1  </td><td>1  </td><td>   </td><td>   </td><td>   </td><td>   </td><td>1  </td><td>1  </td><td>   </td><td>   </td><td>   </td><td>   </td><td>   </td><td>   </td><td>   </td><td>   </td><td>   </td><td>   </td></tr>\n",
       "<tr><td><b>G</b></td><td>   </td><td>   </td><td>   </td><td>1  </td><td>1  </td><td>   </td><td>1  </td><td>1  </td><td>   </td><td>   </td><td>   </td><td>   </td><td>1  </td><td>1  </td><td>   </td><td>   </td><td>   </td><td>   </td><td>   </td><td>   </td><td>   </td><td>   </td><td>   </td><td>   </td></tr>\n",
       "<tr><td><b>T</b></td><td>   </td><td>   </td><td>   </td><td>   </td><td>   </td><td>1  </td><td>   </td><td>   </td><td>   </td><td>   </td><td>   </td><td>   </td><td>   </td><td>   </td><td>1  </td><td>   </td><td>   </td><td>   </td><td>   </td><td>   </td><td>   </td><td>   </td><td>   </td><td>   </td></tr>\n",
       "<tr><td><b>A</b></td><td>1  </td><td>   </td><td>   </td><td>   </td><td>   </td><td>   </td><td>   </td><td>   </td><td>1  </td><td>1  </td><td>   </td><td>   </td><td>   </td><td>   </td><td>   </td><td>1  </td><td>1  </td><td>   </td><td>1  </td><td>   </td><td>   </td><td>   </td><td>1  </td><td>   </td></tr>\n",
       "<tr><td><b>A</b></td><td>1  </td><td>   </td><td>   </td><td>   </td><td>   </td><td>   </td><td>   </td><td>   </td><td>1  </td><td>1  </td><td>   </td><td>   </td><td>   </td><td>   </td><td>   </td><td>1  </td><td>1  </td><td>   </td><td>1  </td><td>   </td><td>   </td><td>   </td><td>1  </td><td>   </td></tr>\n",
       "<tr><td><b>C</b></td><td>   </td><td>1  </td><td>1  </td><td>   </td><td>   </td><td>   </td><td>   </td><td>   </td><td>   </td><td>   </td><td>1  </td><td>1  </td><td>   </td><td>   </td><td>   </td><td>   </td><td>   </td><td>1  </td><td>   </td><td>1  </td><td>1  </td><td>1  </td><td>   </td><td>1  </td></tr>\n",
       "<tr><td><b>C</b></td><td>   </td><td>1  </td><td>1  </td><td>   </td><td>   </td><td>   </td><td>   </td><td>   </td><td>   </td><td>   </td><td>1  </td><td>1  </td><td>   </td><td>   </td><td>   </td><td>   </td><td>   </td><td>1  </td><td>   </td><td>1  </td><td>1  </td><td>1  </td><td>   </td><td>1  </td></tr>\n",
       "<tr><td><b>G</b></td><td>   </td><td>   </td><td>   </td><td>1  </td><td>1  </td><td>   </td><td>1  </td><td>1  </td><td>   </td><td>   </td><td>   </td><td>   </td><td>1  </td><td>1  </td><td>   </td><td>   </td><td>   </td><td>   </td><td>   </td><td>   </td><td>   </td><td>   </td><td>   </td><td>   </td></tr>\n",
       "<tr><td><b>G</b></td><td>   </td><td>   </td><td>   </td><td>1  </td><td>1  </td><td>   </td><td>1  </td><td>1  </td><td>   </td><td>   </td><td>   </td><td>   </td><td>1  </td><td>1  </td><td>   </td><td>   </td><td>   </td><td>   </td><td>   </td><td>   </td><td>   </td><td>   </td><td>   </td><td>   </td></tr>\n",
       "<tr><td><b>T</b></td><td>   </td><td>   </td><td>   </td><td>   </td><td>   </td><td>1  </td><td>   </td><td>   </td><td>   </td><td>   </td><td>   </td><td>   </td><td>   </td><td>   </td><td>1  </td><td>   </td><td>   </td><td>   </td><td>   </td><td>   </td><td>   </td><td>   </td><td>   </td><td>   </td></tr>\n",
       "<tr><td><b>T</b></td><td>   </td><td>   </td><td>   </td><td>   </td><td>   </td><td>1  </td><td>   </td><td>   </td><td>   </td><td>   </td><td>   </td><td>   </td><td>   </td><td>   </td><td>1  </td><td>   </td><td>   </td><td>   </td><td>   </td><td>   </td><td>   </td><td>   </td><td>   </td><td>   </td></tr>\n",
       "<tr><td><b>A</b></td><td>1  </td><td>   </td><td>   </td><td>   </td><td>   </td><td>   </td><td>   </td><td>   </td><td>1  </td><td>1  </td><td>   </td><td>   </td><td>   </td><td>   </td><td>   </td><td>1  </td><td>1  </td><td>   </td><td>1  </td><td>   </td><td>   </td><td>   </td><td>1  </td><td>   </td></tr>\n",
       "<tr><td><b>A</b></td><td>1  </td><td>   </td><td>   </td><td>   </td><td>   </td><td>   </td><td>   </td><td>   </td><td>1  </td><td>1  </td><td>   </td><td>   </td><td>   </td><td>   </td><td>   </td><td>1  </td><td>1  </td><td>   </td><td>1  </td><td>   </td><td>   </td><td>   </td><td>1  </td><td>   </td></tr>\n",
       "<tr><td><b>C</b></td><td>   </td><td>1  </td><td>1  </td><td>   </td><td>   </td><td>   </td><td>   </td><td>   </td><td>   </td><td>   </td><td>1  </td><td>1  </td><td>   </td><td>   </td><td>   </td><td>   </td><td>   </td><td>1  </td><td>   </td><td>1  </td><td>1  </td><td>1  </td><td>   </td><td>1  </td></tr>\n",
       "<tr><td><b>A</b></td><td>1  </td><td>   </td><td>   </td><td>   </td><td>   </td><td>   </td><td>   </td><td>   </td><td>1  </td><td>1  </td><td>   </td><td>   </td><td>   </td><td>   </td><td>   </td><td>1  </td><td>1  </td><td>   </td><td>1  </td><td>   </td><td>   </td><td>   </td><td>1  </td><td>   </td></tr>\n",
       "<tr><td><b>C</b></td><td>   </td><td>1  </td><td>1  </td><td>   </td><td>   </td><td>   </td><td>   </td><td>   </td><td>   </td><td>   </td><td>1  </td><td>1  </td><td>   </td><td>   </td><td>   </td><td>   </td><td>   </td><td>1  </td><td>   </td><td>1  </td><td>1  </td><td>1  </td><td>   </td><td>1  </td></tr>\n",
       "<tr><td><b>C</b></td><td>   </td><td>1  </td><td>1  </td><td>   </td><td>   </td><td>   </td><td>   </td><td>   </td><td>   </td><td>   </td><td>1  </td><td>1  </td><td>   </td><td>   </td><td>   </td><td>   </td><td>   </td><td>1  </td><td>   </td><td>1  </td><td>1  </td><td>1  </td><td>   </td><td>1  </td></tr>\n",
       "<tr><td><b>C</b></td><td>   </td><td>1  </td><td>1  </td><td>   </td><td>   </td><td>   </td><td>   </td><td>   </td><td>   </td><td>   </td><td>1  </td><td>1  </td><td>   </td><td>   </td><td>   </td><td>   </td><td>   </td><td>1  </td><td>   </td><td>1  </td><td>1  </td><td>1  </td><td>   </td><td>1  </td></tr>\n",
       "<tr><td><b>A</b></td><td>1  </td><td>   </td><td>   </td><td>   </td><td>   </td><td>   </td><td>   </td><td>   </td><td>1  </td><td>1  </td><td>   </td><td>   </td><td>   </td><td>   </td><td>   </td><td>1  </td><td>1  </td><td>   </td><td>1  </td><td>   </td><td>   </td><td>   </td><td>1  </td><td>   </td></tr>\n",
       "<tr><td><b>C</b></td><td>   </td><td>1  </td><td>1  </td><td>   </td><td>   </td><td>   </td><td>   </td><td>   </td><td>   </td><td>   </td><td>1  </td><td>1  </td><td>   </td><td>   </td><td>   </td><td>   </td><td>   </td><td>1  </td><td>   </td><td>1  </td><td>1  </td><td>1  </td><td>   </td><td>1  </td></tr>\n",
       "</tbody>\n",
       "</table>"
      ],
      "text/plain": [
       "<table>\n",
       "<thead>\n",
       "<tr><th>        </th><th>A  </th><th>C  </th><th>C  </th><th>G  </th><th>G  </th><th>T  </th><th>G  </th><th>G  </th><th>A  </th><th>A  </th><th>C  </th><th>C  </th><th>G  </th><th>G  </th><th>T  </th><th>A  </th><th>A  </th><th>C  </th><th>A  </th><th>C  </th><th>C  </th><th>C  </th><th>A  </th><th>C  </th></tr>\n",
       "</thead>\n",
       "<tbody>\n",
       "<tr><td><b>A</b></td><td>1  </td><td>   </td><td>   </td><td>   </td><td>   </td><td>   </td><td>   </td><td>   </td><td>1  </td><td>1  </td><td>   </td><td>   </td><td>   </td><td>   </td><td>   </td><td>1  </td><td>1  </td><td>   </td><td>1  </td><td>   </td><td>   </td><td>   </td><td>1  </td><td>   </td></tr>\n",
       "<tr><td><b>C</b></td><td>   </td><td>1  </td><td>1  </td><td>   </td><td>   </td><td>   </td><td>   </td><td>   </td><td>   </td><td>   </td><td>1  </td><td>1  </td><td>   </td><td>   </td><td>   </td><td>   </td><td>   </td><td>1  </td><td>   </td><td>1  </td><td>1  </td><td>1  </td><td>   </td><td>1  </td></tr>\n",
       "<tr><td><b>C</b></td><td>   </td><td>1  </td><td>1  </td><td>   </td><td>   </td><td>   </td><td>   </td><td>   </td><td>   </td><td>   </td><td>1  </td><td>1  </td><td>   </td><td>   </td><td>   </td><td>   </td><td>   </td><td>1  </td><td>   </td><td>1  </td><td>1  </td><td>1  </td><td>   </td><td>1  </td></tr>\n",
       "<tr><td><b>G</b></td><td>   </td><td>   </td><td>   </td><td>1  </td><td>1  </td><td>   </td><td>1  </td><td>1  </td><td>   </td><td>   </td><td>   </td><td>   </td><td>1  </td><td>1  </td><td>   </td><td>   </td><td>   </td><td>   </td><td>   </td><td>   </td><td>   </td><td>   </td><td>   </td><td>   </td></tr>\n",
       "<tr><td><b>G</b></td><td>   </td><td>   </td><td>   </td><td>1  </td><td>1  </td><td>   </td><td>1  </td><td>1  </td><td>   </td><td>   </td><td>   </td><td>   </td><td>1  </td><td>1  </td><td>   </td><td>   </td><td>   </td><td>   </td><td>   </td><td>   </td><td>   </td><td>   </td><td>   </td><td>   </td></tr>\n",
       "<tr><td><b>T</b></td><td>   </td><td>   </td><td>   </td><td>   </td><td>   </td><td>1  </td><td>   </td><td>   </td><td>   </td><td>   </td><td>   </td><td>   </td><td>   </td><td>   </td><td>1  </td><td>   </td><td>   </td><td>   </td><td>   </td><td>   </td><td>   </td><td>   </td><td>   </td><td>   </td></tr>\n",
       "<tr><td><b>A</b></td><td>1  </td><td>   </td><td>   </td><td>   </td><td>   </td><td>   </td><td>   </td><td>   </td><td>1  </td><td>1  </td><td>   </td><td>   </td><td>   </td><td>   </td><td>   </td><td>1  </td><td>1  </td><td>   </td><td>1  </td><td>   </td><td>   </td><td>   </td><td>1  </td><td>   </td></tr>\n",
       "<tr><td><b>A</b></td><td>1  </td><td>   </td><td>   </td><td>   </td><td>   </td><td>   </td><td>   </td><td>   </td><td>1  </td><td>1  </td><td>   </td><td>   </td><td>   </td><td>   </td><td>   </td><td>1  </td><td>1  </td><td>   </td><td>1  </td><td>   </td><td>   </td><td>   </td><td>1  </td><td>   </td></tr>\n",
       "<tr><td><b>C</b></td><td>   </td><td>1  </td><td>1  </td><td>   </td><td>   </td><td>   </td><td>   </td><td>   </td><td>   </td><td>   </td><td>1  </td><td>1  </td><td>   </td><td>   </td><td>   </td><td>   </td><td>   </td><td>1  </td><td>   </td><td>1  </td><td>1  </td><td>1  </td><td>   </td><td>1  </td></tr>\n",
       "<tr><td><b>C</b></td><td>   </td><td>1  </td><td>1  </td><td>   </td><td>   </td><td>   </td><td>   </td><td>   </td><td>   </td><td>   </td><td>1  </td><td>1  </td><td>   </td><td>   </td><td>   </td><td>   </td><td>   </td><td>1  </td><td>   </td><td>1  </td><td>1  </td><td>1  </td><td>   </td><td>1  </td></tr>\n",
       "<tr><td><b>G</b></td><td>   </td><td>   </td><td>   </td><td>1  </td><td>1  </td><td>   </td><td>1  </td><td>1  </td><td>   </td><td>   </td><td>   </td><td>   </td><td>1  </td><td>1  </td><td>   </td><td>   </td><td>   </td><td>   </td><td>   </td><td>   </td><td>   </td><td>   </td><td>   </td><td>   </td></tr>\n",
       "<tr><td><b>G</b></td><td>   </td><td>   </td><td>   </td><td>1  </td><td>1  </td><td>   </td><td>1  </td><td>1  </td><td>   </td><td>   </td><td>   </td><td>   </td><td>1  </td><td>1  </td><td>   </td><td>   </td><td>   </td><td>   </td><td>   </td><td>   </td><td>   </td><td>   </td><td>   </td><td>   </td></tr>\n",
       "<tr><td><b>T</b></td><td>   </td><td>   </td><td>   </td><td>   </td><td>   </td><td>1  </td><td>   </td><td>   </td><td>   </td><td>   </td><td>   </td><td>   </td><td>   </td><td>   </td><td>1  </td><td>   </td><td>   </td><td>   </td><td>   </td><td>   </td><td>   </td><td>   </td><td>   </td><td>   </td></tr>\n",
       "<tr><td><b>T</b></td><td>   </td><td>   </td><td>   </td><td>   </td><td>   </td><td>1  </td><td>   </td><td>   </td><td>   </td><td>   </td><td>   </td><td>   </td><td>   </td><td>   </td><td>1  </td><td>   </td><td>   </td><td>   </td><td>   </td><td>   </td><td>   </td><td>   </td><td>   </td><td>   </td></tr>\n",
       "<tr><td><b>A</b></td><td>1  </td><td>   </td><td>   </td><td>   </td><td>   </td><td>   </td><td>   </td><td>   </td><td>1  </td><td>1  </td><td>   </td><td>   </td><td>   </td><td>   </td><td>   </td><td>1  </td><td>1  </td><td>   </td><td>1  </td><td>   </td><td>   </td><td>   </td><td>1  </td><td>   </td></tr>\n",
       "<tr><td><b>A</b></td><td>1  </td><td>   </td><td>   </td><td>   </td><td>   </td><td>   </td><td>   </td><td>   </td><td>1  </td><td>1  </td><td>   </td><td>   </td><td>   </td><td>   </td><td>   </td><td>1  </td><td>1  </td><td>   </td><td>1  </td><td>   </td><td>   </td><td>   </td><td>1  </td><td>   </td></tr>\n",
       "<tr><td><b>C</b></td><td>   </td><td>1  </td><td>1  </td><td>   </td><td>   </td><td>   </td><td>   </td><td>   </td><td>   </td><td>   </td><td>1  </td><td>1  </td><td>   </td><td>   </td><td>   </td><td>   </td><td>   </td><td>1  </td><td>   </td><td>1  </td><td>1  </td><td>1  </td><td>   </td><td>1  </td></tr>\n",
       "<tr><td><b>A</b></td><td>1  </td><td>   </td><td>   </td><td>   </td><td>   </td><td>   </td><td>   </td><td>   </td><td>1  </td><td>1  </td><td>   </td><td>   </td><td>   </td><td>   </td><td>   </td><td>1  </td><td>1  </td><td>   </td><td>1  </td><td>   </td><td>   </td><td>   </td><td>1  </td><td>   </td></tr>\n",
       "<tr><td><b>C</b></td><td>   </td><td>1  </td><td>1  </td><td>   </td><td>   </td><td>   </td><td>   </td><td>   </td><td>   </td><td>   </td><td>1  </td><td>1  </td><td>   </td><td>   </td><td>   </td><td>   </td><td>   </td><td>1  </td><td>   </td><td>1  </td><td>1  </td><td>1  </td><td>   </td><td>1  </td></tr>\n",
       "<tr><td><b>C</b></td><td>   </td><td>1  </td><td>1  </td><td>   </td><td>   </td><td>   </td><td>   </td><td>   </td><td>   </td><td>   </td><td>1  </td><td>1  </td><td>   </td><td>   </td><td>   </td><td>   </td><td>   </td><td>1  </td><td>   </td><td>1  </td><td>1  </td><td>1  </td><td>   </td><td>1  </td></tr>\n",
       "<tr><td><b>C</b></td><td>   </td><td>1  </td><td>1  </td><td>   </td><td>   </td><td>   </td><td>   </td><td>   </td><td>   </td><td>   </td><td>1  </td><td>1  </td><td>   </td><td>   </td><td>   </td><td>   </td><td>   </td><td>1  </td><td>   </td><td>1  </td><td>1  </td><td>1  </td><td>   </td><td>1  </td></tr>\n",
       "<tr><td><b>A</b></td><td>1  </td><td>   </td><td>   </td><td>   </td><td>   </td><td>   </td><td>   </td><td>   </td><td>1  </td><td>1  </td><td>   </td><td>   </td><td>   </td><td>   </td><td>   </td><td>1  </td><td>1  </td><td>   </td><td>1  </td><td>   </td><td>   </td><td>   </td><td>1  </td><td>   </td></tr>\n",
       "<tr><td><b>C</b></td><td>   </td><td>1  </td><td>1  </td><td>   </td><td>   </td><td>   </td><td>   </td><td>   </td><td>   </td><td>   </td><td>1  </td><td>1  </td><td>   </td><td>   </td><td>   </td><td>   </td><td>   </td><td>1  </td><td>   </td><td>1  </td><td>1  </td><td>1  </td><td>   </td><td>1  </td></tr>\n",
       "</tbody>\n",
       "</table>"
      ]
     },
     "execution_count": 20,
     "metadata": {},
     "output_type": "execute_result"
    }
   ],
   "source": [
    "for row_number,row_character in enumerate(seq2):\n",
    "    for col_number, col_character in enumerate(seq1):\n",
    "        if row_character == col_character:\n",
    "            data[row_number,col_number] = 1\n",
    "HTML(show_F.show_F(seq1,seq2,data,hide_zeros=True))"
   ]
  },
  {
   "cell_type": "markdown",
   "metadata": {},
   "source": [
    "Next we'll identify the longest stretches of non-zero characters, which will be refered to as diagonals"
   ]
  },
  {
   "cell_type": "code",
   "execution_count": 21,
   "metadata": {},
   "outputs": [
    {
     "name": "stdout",
     "output_type": "stream",
     "text": [
      "The longest diagonal is 10 characters long\n"
     ]
    },
    {
     "data": {
      "text/html": [
       "<table>\n",
       "<thead>\n",
       "<tr><th>        </th><th>A  </th><th>C  </th><th>C  </th><th>G  </th><th>G  </th><th>T  </th><th>G  </th><th>G  </th><th>A  </th><th>A  </th><th>C  </th><th>C  </th><th>G  </th><th>G  </th><th>T  </th><th>A  </th><th>A  </th><th>C  </th><th>A  </th><th>C  </th><th>C  </th><th>C  </th><th>A  </th><th>C  </th></tr>\n",
       "</thead>\n",
       "<tbody>\n",
       "<tr><td><b>A</b></td><td>1  </td><td>   </td><td>   </td><td>   </td><td>   </td><td>   </td><td>   </td><td>   </td><td>1  </td><td>1  </td><td>   </td><td>   </td><td>   </td><td>   </td><td>   </td><td>1  </td><td>1  </td><td>   </td><td>1  </td><td>   </td><td>   </td><td>   </td><td>1  </td><td>   </td></tr>\n",
       "<tr><td><b>C</b></td><td>   </td><td>2  </td><td>1  </td><td>   </td><td>   </td><td>   </td><td>   </td><td>   </td><td>   </td><td>   </td><td>2  </td><td>1  </td><td>   </td><td>   </td><td>   </td><td>   </td><td>   </td><td>2  </td><td>   </td><td>2  </td><td>1  </td><td>1  </td><td>   </td><td>2  </td></tr>\n",
       "<tr><td><b>C</b></td><td>   </td><td>1  </td><td>3  </td><td>   </td><td>   </td><td>   </td><td>   </td><td>   </td><td>   </td><td>   </td><td>1  </td><td>3  </td><td>   </td><td>   </td><td>   </td><td>   </td><td>   </td><td>1  </td><td>   </td><td>1  </td><td>3  </td><td>2  </td><td>   </td><td>1  </td></tr>\n",
       "<tr><td><b>G</b></td><td>   </td><td>   </td><td>   </td><td>4  </td><td>1  </td><td>   </td><td>1  </td><td>1  </td><td>   </td><td>   </td><td>   </td><td>   </td><td>4  </td><td>1  </td><td>   </td><td>   </td><td>   </td><td>   </td><td>   </td><td>   </td><td>   </td><td>   </td><td>   </td><td>   </td></tr>\n",
       "<tr><td><b>G</b></td><td>   </td><td>   </td><td>   </td><td>1  </td><td>5  </td><td>   </td><td>1  </td><td>2  </td><td>   </td><td>   </td><td>   </td><td>   </td><td>1  </td><td>5  </td><td>   </td><td>   </td><td>   </td><td>   </td><td>   </td><td>   </td><td>   </td><td>   </td><td>   </td><td>   </td></tr>\n",
       "<tr><td><b>T</b></td><td>   </td><td>   </td><td>   </td><td>   </td><td>   </td><td>6  </td><td>   </td><td>   </td><td>   </td><td>   </td><td>   </td><td>   </td><td>   </td><td>   </td><td>6  </td><td>   </td><td>   </td><td>   </td><td>   </td><td>   </td><td>   </td><td>   </td><td>   </td><td>   </td></tr>\n",
       "<tr><td><b>A</b></td><td>1  </td><td>   </td><td>   </td><td>   </td><td>   </td><td>   </td><td>   </td><td>   </td><td>1  </td><td>1  </td><td>   </td><td>   </td><td>   </td><td>   </td><td>   </td><td>7  </td><td>1  </td><td>   </td><td>1  </td><td>   </td><td>   </td><td>   </td><td>1  </td><td>   </td></tr>\n",
       "<tr><td><b>A</b></td><td>1  </td><td>   </td><td>   </td><td>   </td><td>   </td><td>   </td><td>   </td><td>   </td><td>1  </td><td>2  </td><td>   </td><td>   </td><td>   </td><td>   </td><td>   </td><td>1  </td><td>8  </td><td>   </td><td>1  </td><td>   </td><td>   </td><td>   </td><td>1  </td><td>   </td></tr>\n",
       "<tr><td><b>C</b></td><td>   </td><td>2  </td><td>1  </td><td>   </td><td>   </td><td>   </td><td>   </td><td>   </td><td>   </td><td>   </td><td>3  </td><td>1  </td><td>   </td><td>   </td><td>   </td><td>   </td><td>   </td><td>9  </td><td>   </td><td>2  </td><td>1  </td><td>1  </td><td>   </td><td>2  </td></tr>\n",
       "<tr><td><b>C</b></td><td>   </td><td>1  </td><td>3  </td><td>   </td><td>   </td><td>   </td><td>   </td><td>   </td><td>   </td><td>   </td><td>1  </td><td>4  </td><td>   </td><td>   </td><td>   </td><td>   </td><td>   </td><td>1  </td><td>   </td><td>1  </td><td>3  </td><td>2  </td><td>   </td><td>1  </td></tr>\n",
       "<tr><td><b>G</b></td><td>   </td><td>   </td><td>   </td><td>4  </td><td>1  </td><td>   </td><td>1  </td><td>1  </td><td>   </td><td>   </td><td>   </td><td>   </td><td>5  </td><td>1  </td><td>   </td><td>   </td><td>   </td><td>   </td><td>   </td><td>   </td><td>   </td><td>   </td><td>   </td><td>   </td></tr>\n",
       "<tr><td><b>G</b></td><td>   </td><td>   </td><td>   </td><td>1  </td><td>5  </td><td>   </td><td>1  </td><td>2  </td><td>   </td><td>   </td><td>   </td><td>   </td><td>1  </td><td>6  </td><td>   </td><td>   </td><td>   </td><td>   </td><td>   </td><td>   </td><td>   </td><td>   </td><td>   </td><td>   </td></tr>\n",
       "<tr><td><b>T</b></td><td>   </td><td>   </td><td>   </td><td>   </td><td>   </td><td>6  </td><td>   </td><td>   </td><td>   </td><td>   </td><td>   </td><td>   </td><td>   </td><td>   </td><td>7  </td><td>   </td><td>   </td><td>   </td><td>   </td><td>   </td><td>   </td><td>   </td><td>   </td><td>   </td></tr>\n",
       "<tr><td><b>T</b></td><td>   </td><td>   </td><td>   </td><td>   </td><td>   </td><td>1  </td><td>   </td><td>   </td><td>   </td><td>   </td><td>   </td><td>   </td><td>   </td><td>   </td><td>1  </td><td>   </td><td>   </td><td>   </td><td>   </td><td>   </td><td>   </td><td>   </td><td>   </td><td>   </td></tr>\n",
       "<tr><td><b>A</b></td><td>1  </td><td>   </td><td>   </td><td>   </td><td>   </td><td>   </td><td>   </td><td>   </td><td>1  </td><td>1  </td><td>   </td><td>   </td><td>   </td><td>   </td><td>   </td><td>2  </td><td>1  </td><td>   </td><td>1  </td><td>   </td><td>   </td><td>   </td><td>1  </td><td>   </td></tr>\n",
       "<tr><td><b>A</b></td><td>1  </td><td>   </td><td>   </td><td>   </td><td>   </td><td>   </td><td>   </td><td>   </td><td>1  </td><td>2  </td><td>   </td><td>   </td><td>   </td><td>   </td><td>   </td><td>1  </td><td>3  </td><td>   </td><td>1  </td><td>   </td><td>   </td><td>   </td><td>1  </td><td>   </td></tr>\n",
       "<tr><td><b>C</b></td><td>   </td><td>2  </td><td>1  </td><td>   </td><td>   </td><td>   </td><td>   </td><td>   </td><td>   </td><td>   </td><td>3  </td><td>1  </td><td>   </td><td>   </td><td>   </td><td>   </td><td>   </td><td>4  </td><td>   </td><td>2  </td><td>1  </td><td>1  </td><td>   </td><td>2  </td></tr>\n",
       "<tr><td><b>A</b></td><td>1  </td><td>   </td><td>   </td><td>   </td><td>   </td><td>   </td><td>   </td><td>   </td><td>1  </td><td>1  </td><td>   </td><td>   </td><td>   </td><td>   </td><td>   </td><td>1  </td><td>1  </td><td>   </td><td>5  </td><td>   </td><td>   </td><td>   </td><td>2  </td><td>   </td></tr>\n",
       "<tr><td><b>C</b></td><td>   </td><td>2  </td><td>1  </td><td>   </td><td>   </td><td>   </td><td>   </td><td>   </td><td>   </td><td>   </td><td>2  </td><td>1  </td><td>   </td><td>   </td><td>   </td><td>   </td><td>   </td><td>2  </td><td>   </td><td>6  </td><td>1  </td><td>1  </td><td>   </td><td>3  </td></tr>\n",
       "<tr><td><b>C</b></td><td>   </td><td>1  </td><td>3  </td><td>   </td><td>   </td><td>   </td><td>   </td><td>   </td><td>   </td><td>   </td><td>1  </td><td>3  </td><td>   </td><td>   </td><td>   </td><td>   </td><td>   </td><td>1  </td><td>   </td><td>1  </td><td>7  </td><td>2  </td><td>   </td><td>1  </td></tr>\n",
       "<tr><td><b>C</b></td><td>   </td><td>1  </td><td>2  </td><td>   </td><td>   </td><td>   </td><td>   </td><td>   </td><td>   </td><td>   </td><td>1  </td><td>2  </td><td>   </td><td>   </td><td>   </td><td>   </td><td>   </td><td>1  </td><td>   </td><td>1  </td><td>2  </td><td>8  </td><td>   </td><td>1  </td></tr>\n",
       "<tr><td><b>A</b></td><td>1  </td><td>   </td><td>   </td><td>   </td><td>   </td><td>   </td><td>   </td><td>   </td><td>1  </td><td>1  </td><td>   </td><td>   </td><td>   </td><td>   </td><td>   </td><td>1  </td><td>1  </td><td>   </td><td>2  </td><td>   </td><td>   </td><td>   </td><td>9  </td><td>   </td></tr>\n",
       "<tr><td><b>C</b></td><td>   </td><td>2  </td><td>1  </td><td>   </td><td>   </td><td>   </td><td>   </td><td>   </td><td>   </td><td>   </td><td>2  </td><td>1  </td><td>   </td><td>   </td><td>   </td><td>   </td><td>   </td><td>2  </td><td>   </td><td>3  </td><td>1  </td><td>1  </td><td>   </td><td>10 </td></tr>\n",
       "</tbody>\n",
       "</table>"
      ],
      "text/plain": [
       "<table>\n",
       "<thead>\n",
       "<tr><th>        </th><th>A  </th><th>C  </th><th>C  </th><th>G  </th><th>G  </th><th>T  </th><th>G  </th><th>G  </th><th>A  </th><th>A  </th><th>C  </th><th>C  </th><th>G  </th><th>G  </th><th>T  </th><th>A  </th><th>A  </th><th>C  </th><th>A  </th><th>C  </th><th>C  </th><th>C  </th><th>A  </th><th>C  </th></tr>\n",
       "</thead>\n",
       "<tbody>\n",
       "<tr><td><b>A</b></td><td>1  </td><td>   </td><td>   </td><td>   </td><td>   </td><td>   </td><td>   </td><td>   </td><td>1  </td><td>1  </td><td>   </td><td>   </td><td>   </td><td>   </td><td>   </td><td>1  </td><td>1  </td><td>   </td><td>1  </td><td>   </td><td>   </td><td>   </td><td>1  </td><td>   </td></tr>\n",
       "<tr><td><b>C</b></td><td>   </td><td>2  </td><td>1  </td><td>   </td><td>   </td><td>   </td><td>   </td><td>   </td><td>   </td><td>   </td><td>2  </td><td>1  </td><td>   </td><td>   </td><td>   </td><td>   </td><td>   </td><td>2  </td><td>   </td><td>2  </td><td>1  </td><td>1  </td><td>   </td><td>2  </td></tr>\n",
       "<tr><td><b>C</b></td><td>   </td><td>1  </td><td>3  </td><td>   </td><td>   </td><td>   </td><td>   </td><td>   </td><td>   </td><td>   </td><td>1  </td><td>3  </td><td>   </td><td>   </td><td>   </td><td>   </td><td>   </td><td>1  </td><td>   </td><td>1  </td><td>3  </td><td>2  </td><td>   </td><td>1  </td></tr>\n",
       "<tr><td><b>G</b></td><td>   </td><td>   </td><td>   </td><td>4  </td><td>1  </td><td>   </td><td>1  </td><td>1  </td><td>   </td><td>   </td><td>   </td><td>   </td><td>4  </td><td>1  </td><td>   </td><td>   </td><td>   </td><td>   </td><td>   </td><td>   </td><td>   </td><td>   </td><td>   </td><td>   </td></tr>\n",
       "<tr><td><b>G</b></td><td>   </td><td>   </td><td>   </td><td>1  </td><td>5  </td><td>   </td><td>1  </td><td>2  </td><td>   </td><td>   </td><td>   </td><td>   </td><td>1  </td><td>5  </td><td>   </td><td>   </td><td>   </td><td>   </td><td>   </td><td>   </td><td>   </td><td>   </td><td>   </td><td>   </td></tr>\n",
       "<tr><td><b>T</b></td><td>   </td><td>   </td><td>   </td><td>   </td><td>   </td><td>6  </td><td>   </td><td>   </td><td>   </td><td>   </td><td>   </td><td>   </td><td>   </td><td>   </td><td>6  </td><td>   </td><td>   </td><td>   </td><td>   </td><td>   </td><td>   </td><td>   </td><td>   </td><td>   </td></tr>\n",
       "<tr><td><b>A</b></td><td>1  </td><td>   </td><td>   </td><td>   </td><td>   </td><td>   </td><td>   </td><td>   </td><td>1  </td><td>1  </td><td>   </td><td>   </td><td>   </td><td>   </td><td>   </td><td>7  </td><td>1  </td><td>   </td><td>1  </td><td>   </td><td>   </td><td>   </td><td>1  </td><td>   </td></tr>\n",
       "<tr><td><b>A</b></td><td>1  </td><td>   </td><td>   </td><td>   </td><td>   </td><td>   </td><td>   </td><td>   </td><td>1  </td><td>2  </td><td>   </td><td>   </td><td>   </td><td>   </td><td>   </td><td>1  </td><td>8  </td><td>   </td><td>1  </td><td>   </td><td>   </td><td>   </td><td>1  </td><td>   </td></tr>\n",
       "<tr><td><b>C</b></td><td>   </td><td>2  </td><td>1  </td><td>   </td><td>   </td><td>   </td><td>   </td><td>   </td><td>   </td><td>   </td><td>3  </td><td>1  </td><td>   </td><td>   </td><td>   </td><td>   </td><td>   </td><td>9  </td><td>   </td><td>2  </td><td>1  </td><td>1  </td><td>   </td><td>2  </td></tr>\n",
       "<tr><td><b>C</b></td><td>   </td><td>1  </td><td>3  </td><td>   </td><td>   </td><td>   </td><td>   </td><td>   </td><td>   </td><td>   </td><td>1  </td><td>4  </td><td>   </td><td>   </td><td>   </td><td>   </td><td>   </td><td>1  </td><td>   </td><td>1  </td><td>3  </td><td>2  </td><td>   </td><td>1  </td></tr>\n",
       "<tr><td><b>G</b></td><td>   </td><td>   </td><td>   </td><td>4  </td><td>1  </td><td>   </td><td>1  </td><td>1  </td><td>   </td><td>   </td><td>   </td><td>   </td><td>5  </td><td>1  </td><td>   </td><td>   </td><td>   </td><td>   </td><td>   </td><td>   </td><td>   </td><td>   </td><td>   </td><td>   </td></tr>\n",
       "<tr><td><b>G</b></td><td>   </td><td>   </td><td>   </td><td>1  </td><td>5  </td><td>   </td><td>1  </td><td>2  </td><td>   </td><td>   </td><td>   </td><td>   </td><td>1  </td><td>6  </td><td>   </td><td>   </td><td>   </td><td>   </td><td>   </td><td>   </td><td>   </td><td>   </td><td>   </td><td>   </td></tr>\n",
       "<tr><td><b>T</b></td><td>   </td><td>   </td><td>   </td><td>   </td><td>   </td><td>6  </td><td>   </td><td>   </td><td>   </td><td>   </td><td>   </td><td>   </td><td>   </td><td>   </td><td>7  </td><td>   </td><td>   </td><td>   </td><td>   </td><td>   </td><td>   </td><td>   </td><td>   </td><td>   </td></tr>\n",
       "<tr><td><b>T</b></td><td>   </td><td>   </td><td>   </td><td>   </td><td>   </td><td>1  </td><td>   </td><td>   </td><td>   </td><td>   </td><td>   </td><td>   </td><td>   </td><td>   </td><td>1  </td><td>   </td><td>   </td><td>   </td><td>   </td><td>   </td><td>   </td><td>   </td><td>   </td><td>   </td></tr>\n",
       "<tr><td><b>A</b></td><td>1  </td><td>   </td><td>   </td><td>   </td><td>   </td><td>   </td><td>   </td><td>   </td><td>1  </td><td>1  </td><td>   </td><td>   </td><td>   </td><td>   </td><td>   </td><td>2  </td><td>1  </td><td>   </td><td>1  </td><td>   </td><td>   </td><td>   </td><td>1  </td><td>   </td></tr>\n",
       "<tr><td><b>A</b></td><td>1  </td><td>   </td><td>   </td><td>   </td><td>   </td><td>   </td><td>   </td><td>   </td><td>1  </td><td>2  </td><td>   </td><td>   </td><td>   </td><td>   </td><td>   </td><td>1  </td><td>3  </td><td>   </td><td>1  </td><td>   </td><td>   </td><td>   </td><td>1  </td><td>   </td></tr>\n",
       "<tr><td><b>C</b></td><td>   </td><td>2  </td><td>1  </td><td>   </td><td>   </td><td>   </td><td>   </td><td>   </td><td>   </td><td>   </td><td>3  </td><td>1  </td><td>   </td><td>   </td><td>   </td><td>   </td><td>   </td><td>4  </td><td>   </td><td>2  </td><td>1  </td><td>1  </td><td>   </td><td>2  </td></tr>\n",
       "<tr><td><b>A</b></td><td>1  </td><td>   </td><td>   </td><td>   </td><td>   </td><td>   </td><td>   </td><td>   </td><td>1  </td><td>1  </td><td>   </td><td>   </td><td>   </td><td>   </td><td>   </td><td>1  </td><td>1  </td><td>   </td><td>5  </td><td>   </td><td>   </td><td>   </td><td>2  </td><td>   </td></tr>\n",
       "<tr><td><b>C</b></td><td>   </td><td>2  </td><td>1  </td><td>   </td><td>   </td><td>   </td><td>   </td><td>   </td><td>   </td><td>   </td><td>2  </td><td>1  </td><td>   </td><td>   </td><td>   </td><td>   </td><td>   </td><td>2  </td><td>   </td><td>6  </td><td>1  </td><td>1  </td><td>   </td><td>3  </td></tr>\n",
       "<tr><td><b>C</b></td><td>   </td><td>1  </td><td>3  </td><td>   </td><td>   </td><td>   </td><td>   </td><td>   </td><td>   </td><td>   </td><td>1  </td><td>3  </td><td>   </td><td>   </td><td>   </td><td>   </td><td>   </td><td>1  </td><td>   </td><td>1  </td><td>7  </td><td>2  </td><td>   </td><td>1  </td></tr>\n",
       "<tr><td><b>C</b></td><td>   </td><td>1  </td><td>2  </td><td>   </td><td>   </td><td>   </td><td>   </td><td>   </td><td>   </td><td>   </td><td>1  </td><td>2  </td><td>   </td><td>   </td><td>   </td><td>   </td><td>   </td><td>1  </td><td>   </td><td>1  </td><td>2  </td><td>8  </td><td>   </td><td>1  </td></tr>\n",
       "<tr><td><b>A</b></td><td>1  </td><td>   </td><td>   </td><td>   </td><td>   </td><td>   </td><td>   </td><td>   </td><td>1  </td><td>1  </td><td>   </td><td>   </td><td>   </td><td>   </td><td>   </td><td>1  </td><td>1  </td><td>   </td><td>2  </td><td>   </td><td>   </td><td>   </td><td>9  </td><td>   </td></tr>\n",
       "<tr><td><b>C</b></td><td>   </td><td>2  </td><td>1  </td><td>   </td><td>   </td><td>   </td><td>   </td><td>   </td><td>   </td><td>   </td><td>2  </td><td>1  </td><td>   </td><td>   </td><td>   </td><td>   </td><td>   </td><td>2  </td><td>   </td><td>3  </td><td>1  </td><td>1  </td><td>   </td><td>10 </td></tr>\n",
       "</tbody>\n",
       "</table>"
      ]
     },
     "execution_count": 21,
     "metadata": {},
     "output_type": "execute_result"
    }
   ],
   "source": [
    "# creating a copy of our data matrix to work with, so we leave the original untouched\n",
    "summed_data = data.copy()\n",
    "# iterate over the cells in our data matrix, starting in the second row and the second column\n",
    "for i in range(1, summed_data.shape[0]):\n",
    "    for j in range(1, summed_data.shape[1]):\n",
    "        if summed_data[i,j] > 0:\n",
    "            summed_data[i, j] += summed_data[i - 1][j - 1]\n",
    "print(\"The longest diagonal is %d characters long\" % summed_data.max())\n",
    "HTML(show_F.show_F(seq1,seq2, summed_data, hide_zeros= True))"
   ]
  },
  {
   "cell_type": "markdown",
   "metadata": {},
   "source": [
    "Now we transcribe a possible alignment that arises from this process. We can use the following algorithm. \n",
    "- Start with the longest diagonal and trace it backwards to transcribe the alignment by writing down the characters from each of the two sequences at every row and column corresponding to the diagonal that you are following. \n",
    "- When we encounter a break in the diagonal, we find the next longest diagonal that starts in a cell that is up and/or to the left of the cell when the previous diagonal we were following ends.\n",
    "- For every cell that we move straight upwards, we would insert a gap in the sequence on the horizontal axis of the matrix. For every cell that you move straight leftwards, you'd insert a gap in the sequence on the horizontal axis of your matrix\n",
    "- For every vell that you move straight leftwards, you'd insert a gap in the sequence on the vertical axis of your matrix.\n",
    "\n",
    "Finally here is one possible alignment assuming we follow the algorithm correctly:\n",
    "- **ACCGGTGGAACCGG-TAACACCCAC**\n",
    "- **ACCGGT--AACCGGTTAACACCCAC**"
   ]
  },
  {
   "cell_type": "code",
   "execution_count": null,
   "metadata": {},
   "outputs": [],
   "source": []
  },
  {
   "cell_type": "code",
   "execution_count": 1,
   "metadata": {},
   "outputs": [],
   "source": []
  },
  {
   "cell_type": "code",
   "execution_count": 1,
   "metadata": {},
   "outputs": [],
   "source": []
  },
  {
   "cell_type": "code",
   "execution_count": 1,
   "metadata": {},
   "outputs": [],
   "source": []
  },
  {
   "cell_type": "code",
   "execution_count": 1,
   "metadata": {},
   "outputs": [],
   "source": []
  },
  {
   "cell_type": "code",
   "execution_count": 22,
   "metadata": {},
   "outputs": [],
   "source": []
  },
  {
   "cell_type": "code",
   "execution_count": null,
   "metadata": {},
   "outputs": [],
   "source": []
  }
 ],
 "metadata": {
  "kernelspec": {
   "display_name": "Python 3",
   "language": "python",
   "name": "python3"
  },
  "language_info": {
   "codemirror_mode": {
    "name": "ipython",
    "version": 3
   },
   "file_extension": ".py",
   "mimetype": "text/x-python",
   "name": "python",
   "nbconvert_exporter": "python",
   "pygments_lexer": "ipython3",
   "version": "3.7.1"
  }
 },
 "nbformat": 4,
 "nbformat_minor": 1
}
